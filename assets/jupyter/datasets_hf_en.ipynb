{
 "cells": [
  {
   "cell_type": "markdown",
   "id": "3096e9e9-970f-4223-919a-2a444794ff1e",
   "metadata": {},
   "source": [
    "### Version of Python"
   ]
  },
  {
   "cell_type": "code",
   "execution_count": 1,
   "id": "4c2e604d-4889-4d0c-8e0d-9d4fe1062a1c",
   "metadata": {},
   "outputs": [
    {
     "name": "stdout",
     "output_type": "stream",
     "text": [
      "Python 3.12.3\n"
     ]
    }
   ],
   "source": [
    "!python -V"
   ]
  },
  {
   "cell_type": "markdown",
   "id": "d230c5fa-ace2-4a7a-bfc0-fe3484170c91",
   "metadata": {},
   "source": [
    "### Import Required Packages"
   ]
  },
  {
   "cell_type": "code",
   "execution_count": 2,
   "id": "728b7cc6-cd1f-4fab-8cc7-66d18f48bffd",
   "metadata": {},
   "outputs": [],
   "source": [
    "# Suppress warnings\n",
    "import warnings\n",
    "for warn in [UserWarning, FutureWarning]: warnings.filterwarnings(\"ignore\", category = warn)\n",
    "\n",
    "import io\n",
    "import os\n",
    "import numpy as np\n",
    "import torch\n",
    "import torch.nn as nn\n",
    "import torchvision as tv\n",
    "import torchvision.transforms as transforms\n",
    "import torchvision.transforms.functional as F\n",
    "import pandas as pd\n",
    "import datasets\n",
    "import PIL\n",
    "import jupyterlab as jlab\n",
    "import ipywidgets\n",
    "import time\n",
    "\n",
    "from pathlib import Path\n",
    "from dataclasses import dataclass\n",
    "from datasets import load_dataset_builder, load_dataset, get_dataset_split_names, get_dataset_config_names, Dataset, Image, DatasetInfo\n",
    "from torchvision.transforms import v2\n",
    "from PIL import Image as PILImage"
   ]
  },
  {
   "cell_type": "markdown",
   "id": "906b30fa-925b-4dd1-8e75-aad79936c93a",
   "metadata": {},
   "source": [
    "### Versions of Required Libraries"
   ]
  },
  {
   "cell_type": "code",
   "execution_count": 3,
   "id": "607ce9bc-4882-4ed7-b10c-b127c860b1fd",
   "metadata": {},
   "outputs": [
    {
     "data": {
      "text/html": [
       "<div>\n",
       "<style scoped>\n",
       "    .dataframe tbody tr th:only-of-type {\n",
       "        vertical-align: middle;\n",
       "    }\n",
       "\n",
       "    .dataframe tbody tr th {\n",
       "        vertical-align: top;\n",
       "    }\n",
       "\n",
       "    .dataframe thead th {\n",
       "        text-align: right;\n",
       "    }\n",
       "</style>\n",
       "<table border=\"1\" class=\"dataframe\">\n",
       "  <thead>\n",
       "    <tr style=\"text-align: right;\">\n",
       "      <th></th>\n",
       "      <th>Package</th>\n",
       "      <th>Version</th>\n",
       "    </tr>\n",
       "    <tr>\n",
       "      <th>#</th>\n",
       "      <th></th>\n",
       "      <th></th>\n",
       "    </tr>\n",
       "  </thead>\n",
       "  <tbody>\n",
       "    <tr>\n",
       "      <th>1</th>\n",
       "      <td>Torch</td>\n",
       "      <td>2.2.2</td>\n",
       "    </tr>\n",
       "    <tr>\n",
       "      <th>2</th>\n",
       "      <td>TorchVision</td>\n",
       "      <td>0.17.2</td>\n",
       "    </tr>\n",
       "    <tr>\n",
       "      <th>3</th>\n",
       "      <td>NumPy</td>\n",
       "      <td>1.26.4</td>\n",
       "    </tr>\n",
       "    <tr>\n",
       "      <th>4</th>\n",
       "      <td>Pandas</td>\n",
       "      <td>2.2.2</td>\n",
       "    </tr>\n",
       "    <tr>\n",
       "      <th>5</th>\n",
       "      <td>Datasets</td>\n",
       "      <td>2.20.0</td>\n",
       "    </tr>\n",
       "    <tr>\n",
       "      <th>6</th>\n",
       "      <td>Pillow</td>\n",
       "      <td>10.4.0</td>\n",
       "    </tr>\n",
       "    <tr>\n",
       "      <th>7</th>\n",
       "      <td>JupyterLab</td>\n",
       "      <td>4.2.3</td>\n",
       "    </tr>\n",
       "    <tr>\n",
       "      <th>8</th>\n",
       "      <td>IPyWidgets</td>\n",
       "      <td>8.1.3</td>\n",
       "    </tr>\n",
       "  </tbody>\n",
       "</table>\n",
       "</div>"
      ],
      "text/plain": [
       "       Package Version\n",
       "#                     \n",
       "1        Torch   2.2.2\n",
       "2  TorchVision  0.17.2\n",
       "3        NumPy  1.26.4\n",
       "4       Pandas   2.2.2\n",
       "5     Datasets  2.20.0\n",
       "6       Pillow  10.4.0\n",
       "7   JupyterLab   4.2.3\n",
       "8   IPyWidgets   8.1.3"
      ]
     },
     "metadata": {},
     "output_type": "display_data"
    }
   ],
   "source": [
    "packages = [\n",
    "    \"Torch\", \"TorchVision\", \"NumPy\", \"Pandas\", \"Datasets\", \"Pillow\", \"JupyterLab\", \"IPyWidgets\"\n",
    "]\n",
    "\n",
    "package_objects = [\n",
    "    torch, tv, np, pd, datasets, PIL, jlab, ipywidgets\n",
    "]\n",
    "\n",
    "versions = list(map(lambda obj: obj.__version__, package_objects))\n",
    "\n",
    "pkgs = {\"Package\": packages, \"Version\": versions}\n",
    "df_pkgs = pd.DataFrame(data = pkgs)\n",
    "df_pkgs.index.name = \"#\"\n",
    "df_pkgs.index += 1\n",
    "\n",
    "display(df_pkgs)\n",
    "\n",
    "path_to_reqs = \".\"\n",
    "reqs_name = \"requirements.txt\"\n",
    "\n",
    "def get_packages_and_versions():\n",
    "    \"\"\"Generate strings with libraries and their versions in the format: package==version\"\"\"\n",
    "    \n",
    "    for package, version in zip(packages, versions):\n",
    "        yield f\"{package.lower()}=={version}\\n\"\n",
    "\n",
    "with open(os.path.join(path_to_reqs, reqs_name), \"w\", encoding = \"utf-8\") as f:\n",
    "    f.writelines(get_packages_and_versions())"
   ]
  },
  {
   "cell_type": "markdown",
   "id": "aa0002ff-9f36-467c-8a83-354ef37ebf23",
   "metadata": {},
   "source": [
    "### Downloading a Dataset from the [Hugging Face Hub](https://huggingface.co/datasets)\n",
    "\n",
    "> Before downloading a dataset, you can get general information stored in [DatasetInfo](https://huggingface.co/docs/datasets/package_reference/main_classes#datasets.DatasetInfo), including description, functions, and dataset size"
   ]
  },
  {
   "cell_type": "markdown",
   "id": "c81e1247-f0d7-4808-bd41-5b887492d3ea",
   "metadata": {},
   "source": [
    "#### Checks Attributes of a Dataset without Downloading it"
   ]
  },
  {
   "cell_type": "code",
   "execution_count": 4,
   "id": "26210686-0294-4263-8488-80091c3060af",
   "metadata": {},
   "outputs": [
    {
     "name": "stdout",
     "output_type": "stream",
     "text": [
      "DatasetInfo(description='', citation='', homepage='', license='', features={'img': Image(mode=None, decode=True, id=None), 'label': ClassLabel(names=['airplane', 'automobile', 'bird', 'cat', 'deer', 'dog', 'frog', 'horse', 'ship', 'truck'], id=None)}, post_processed=None, supervised_keys=None, task_templates=None, builder_name='parquet', dataset_name='cifar10', config_name='plain_text', version=0.0.0, splits={'train': SplitInfo(name='train', num_bytes=113861310, num_examples=50000, shard_lengths=None, dataset_name='cifar10'), 'test': SplitInfo(name='test', num_bytes=22774180, num_examples=10000, shard_lengths=None, dataset_name='cifar10')}, download_checksums={'hf://datasets/uoft-cs/cifar10@0b2714987fa478483af9968de7c934580d0bb9a2/plain_text/train-00000-of-00001.parquet': {'num_bytes': 119705255, 'checksum': None}, 'hf://datasets/uoft-cs/cifar10@0b2714987fa478483af9968de7c934580d0bb9a2/plain_text/test-00000-of-00001.parquet': {'num_bytes': 23940850, 'checksum': None}}, download_size=143646105, post_processing_size=None, dataset_size=136635490, size_in_bytes=280281595) \n",
      "\n",
      "{'img': Image(mode=None, decode=True, id=None), 'label': ClassLabel(names=['airplane', 'automobile', 'bird', 'cat', 'deer', 'dog', 'frog', 'horse', 'ship', 'truck'], id=None)}\n"
     ]
    }
   ],
   "source": [
    "cache_dir = os.path.join(\".\", \"data\") # Directory for downloading the dataset\n",
    "\n",
    "# Check the general information required to build the dataset without downloading the dataset itself\n",
    "ds_builder = load_dataset_builder(path = \"uoft-cs/cifar10\", cache_dir = cache_dir, trust_remote_code = True)\n",
    "\n",
    "# Information about the dataset\n",
    "print(ds_builder.info, \"\\n\")\n",
    "print(ds_builder.info.features)"
   ]
  },
  {
   "cell_type": "markdown",
   "id": "f726d083-1a40-4584-becc-83523059fcba",
   "metadata": {},
   "source": [
    "#### List of Possible Configurations Available for the Dataset"
   ]
  },
  {
   "cell_type": "code",
   "execution_count": 5,
   "id": "85dbd483-cbf6-4d86-abc9-de3f74b63f0e",
   "metadata": {},
   "outputs": [
    {
     "name": "stdout",
     "output_type": "stream",
     "text": [
      "['plain_text']\n"
     ]
    }
   ],
   "source": [
    "configs = get_dataset_config_names(path = \"uoft-cs/cifar10\", trust_remote_code = True)\n",
    "\n",
    "print(configs)"
   ]
  },
  {
   "cell_type": "markdown",
   "id": "180ecdf5-f250-40b7-9681-a7dcfc449043",
   "metadata": {},
   "source": [
    "#### Available Data Subsets"
   ]
  },
  {
   "cell_type": "code",
   "execution_count": 6,
   "id": "30f9242d-1acf-4651-be1d-6d20036bf32e",
   "metadata": {},
   "outputs": [
    {
     "name": "stdout",
     "output_type": "stream",
     "text": [
      "['train', 'test']\n"
     ]
    }
   ],
   "source": [
    "dataset_split_names = get_dataset_split_names(path = \"uoft-cs/cifar10\", trust_remote_code = True)\n",
    "\n",
    "print(dataset_split_names)"
   ]
  },
  {
   "cell_type": "markdown",
   "id": "e41f2d0e-7e50-4573-a21c-3426f1a07568",
   "metadata": {},
   "source": [
    "#### Downloading a Dataset"
   ]
  },
  {
   "cell_type": "code",
   "execution_count": 7,
   "id": "7ef0f434-caa1-4d35-8cec-fb013c0f7887",
   "metadata": {},
   "outputs": [
    {
     "name": "stdout",
     "output_type": "stream",
     "text": [
      "Train subset:\n",
      " Dataset({\n",
      "    features: ['img', 'label'],\n",
      "    num_rows: 50000\n",
      "}) \n",
      "\n",
      "Test subset:\n",
      " Dataset({\n",
      "    features: ['img', 'label'],\n",
      "    num_rows: 10000\n",
      "})\n"
     ]
    }
   ],
   "source": [
    "dataset_train, dataset_test = load_dataset(\n",
    "    path = \"uoft-cs/cifar10\",\n",
    "    name = \"plain_text\", # see configs\n",
    "    split = dataset_split_names,\n",
    "    cache_dir = cache_dir,\n",
    "    trust_remote_code = True\n",
    ")\n",
    "\n",
    "print(\"Train subset:\\n\", dataset_train, \"\\n\")\n",
    "print(\"Test subset:\\n\", dataset_test)"
   ]
  },
  {
   "cell_type": "markdown",
   "id": "1959db1e-8389-4c0e-9514-b87ab059419b",
   "metadata": {},
   "source": [
    "### Indexing a Dataset\n",
    "\n",
    "> Dataset contains columns of different data types"
   ]
  },
  {
   "cell_type": "code",
   "execution_count": 8,
   "id": "4fdc66e9-3e25-4e4b-ab65-cdf8e01f27e3",
   "metadata": {},
   "outputs": [
    {
     "name": "stdout",
     "output_type": "stream",
     "text": [
      "{'img': <PIL.PngImagePlugin.PngImageFile image mode=RGB size=32x32 at 0x138B13200>, 'label': 0} \n",
      "\n",
      "{'img': <PIL.PngImagePlugin.PngImageFile image mode=RGB size=32x32 at 0x138B12DB0>, 'label': 5} \n",
      "\n",
      "{'img': [<PIL.PngImagePlugin.PngImageFile image mode=RGB size=32x32 at 0x138B12360>, <PIL.PngImagePlugin.PngImageFile image mode=RGB size=32x32 at 0x138B9CE60>, <PIL.PngImagePlugin.PngImageFile image mode=RGB size=32x32 at 0x138B9D8E0>, <PIL.PngImagePlugin.PngImageFile image mode=RGB size=32x32 at 0x138B9D910>], 'label': [2, 7, 2, 1]} \n",
      "\n",
      "[<PIL.PngImagePlugin.PngImageFile image mode=RGB size=32x32 at 0x138B9DDC0>, <PIL.PngImagePlugin.PngImageFile image mode=RGB size=32x32 at 0x138B9DE50>, <PIL.PngImagePlugin.PngImageFile image mode=RGB size=32x32 at 0x138B9DE80>, <PIL.PngImagePlugin.PngImageFile image mode=RGB size=32x32 at 0x138B9DEB0>, <PIL.PngImagePlugin.PngImageFile image mode=RGB size=32x32 at 0x138B9DF10>, <PIL.PngImagePlugin.PngImageFile image mode=RGB size=32x32 at 0x138B9DF70>, <PIL.PngImagePlugin.PngImageFile image mode=RGB size=32x32 at 0x138B9DFD0>, <PIL.PngImagePlugin.PngImageFile image mode=RGB size=32x32 at 0x138B9E030>, <PIL.PngImagePlugin.PngImageFile image mode=RGB size=32x32 at 0x138B9E090>, <PIL.PngImagePlugin.PngImageFile image mode=RGB size=32x32 at 0x138B9DEE0>]\n",
      "Runtime: 0.0022 seconds\n"
     ]
    }
   ],
   "source": [
    "# Getting the first row of data\n",
    "print(dataset_train[0], \"\\n\")\n",
    "\n",
    "# Getting the last row of data\n",
    "print(dataset_train[-1], \"\\n\")\n",
    "\n",
    "# Get a subset of rows of data\n",
    "print(dataset_train[3:7], \"\\n\")\n",
    "\n",
    "start_time = time.time()\n",
    "# Get a part of the rows from a specified column of a data\n",
    "print(dataset_train[:10][\"img\"])\n",
    "end_time = time.time()\n",
    "print(f\"Runtime: {end_time - start_time:.4f} seconds\")"
   ]
  },
  {
   "cell_type": "markdown",
   "id": "5aee7bb2-aff3-45a3-b182-5c1ad1e640b5",
   "metadata": {},
   "source": [
    "### Apply Transformations to Images"
   ]
  },
  {
   "cell_type": "code",
   "execution_count": 9,
   "id": "2e19bf9f-012c-4219-aaa8-35510a19c3d1",
   "metadata": {},
   "outputs": [
    {
     "name": "stdout",
     "output_type": "stream",
     "text": [
      "{'img': <PIL.PngImagePlugin.PngImageFile image mode=RGB size=32x32 at 0x138B9CE60>, 'label': 6, 'pixel_values': <PIL.Image.Image image mode=RGB size=64x64 at 0x138B9DF10>}\n"
     ]
    },
    {
     "data": {
      "image/jpeg": "[encoded data removed]",
      "image/png": "[encoded data removed]",
      "text/plain": [
       "<PIL.Image.Image image mode=RGB size=64x64>"
      ]
     },
     "execution_count": 9,
     "metadata": {},
     "output_type": "execute_result"
    }
   ],
   "source": [
    "compose = v2.Compose([\n",
    "    v2.RandomResizedCrop(size = (64, 64), antialias = True),\n",
    "    v2.RandomRotation(degrees = (0, 90))\n",
    "])\n",
    "\n",
    "def transforms(examples: dict):\n",
    "    # Apply transformations to all images (img) and save the results (pixel_values)\n",
    "    examples[\"pixel_values\"] = list(map(compose, examples[\"img\"]))\n",
    "\n",
    "    return examples # Result\n",
    "\n",
    "# Applying the transform function to the training subset\n",
    "dataset_train.set_transform(transforms)\n",
    "\n",
    "# Getting a row\n",
    "print(dataset_train[1])\n",
    "dataset_train[1][\"pixel_values\"]"
   ]
  },
  {
   "cell_type": "markdown",
   "id": "54c0276f-4be7-4f7f-a387-b81adf0fbb4c",
   "metadata": {},
   "source": [
    "### Creating a Dataset\n",
    "\n",
    "> The dataset is partitioned based on the root directory structure,\n",
    "> and labels are automatically created from the names of the subdirectories\n",
    "\n",
    "$$\n",
    "dataset/{train|test}/{class}/{filename}\n",
    "$$\n",
    "\n",
    "- ${train|test}$ — training, test subset\n",
    "- ${class}$ — class\n",
    "- ${filename}$ — image or audio file"
   ]
  },
  {
   "cell_type": "markdown",
   "id": "ed961576-8169-41fc-b8cd-936ede5259a0",
   "metadata": {},
   "source": [
    "#### Directory-based"
   ]
  },
  {
   "cell_type": "code",
   "execution_count": 10,
   "id": "2a64251d-9e3a-484c-91c2-32c714e391ef",
   "metadata": {},
   "outputs": [
    {
     "name": "stdout",
     "output_type": "stream",
     "text": [
      "Train subset:\n",
      " Dataset({\n",
      "    features: ['image', 'label'],\n",
      "    num_rows: 13\n",
      "}) \n",
      "\n",
      "Test subset:\n",
      " Dataset({\n",
      "    features: ['image', 'label'],\n",
      "    num_rows: 5\n",
      "}) \n",
      "\n",
      "{'image': <PIL.JpegImagePlugin.JpegImageFile image mode=RGB size=360x361 at 0x138B13920>, 'label': 0, 'pixel_values': <PIL.Image.Image image mode=RGB size=128x128 at 0x138B12FC0>}\n"
     ]
    },
    {
     "data": {
      "image/jpeg": "[encoded data removed]",
      "image/png": "[encoded data removed]",
      "text/plain": [
       "<PIL.Image.Image image mode=RGB size=128x128>"
      ]
     },
     "execution_count": 10,
     "metadata": {},
     "output_type": "execute_result"
    }
   ],
   "source": [
    "data_dir = os.path.join(\".\", \"data\", \"pokemon\") # Directory for downloading the dataset\n",
    "\n",
    "dataset = load_dataset(\n",
    "    path = \"imagefolder\",\n",
    "    data_dir = data_dir\n",
    ")\n",
    "dataset_train, dataset_test = dataset['train'], dataset['test']\n",
    "\n",
    "compose = v2.Compose([\n",
    "    v2.Resize(size = (128, 128), antialias = True)\n",
    "])\n",
    "\n",
    "def transforms(examples: dict):\n",
    "    # Apply transformations to all images (img) and save the results (pixel_values)\n",
    "    examples[\"pixel_values\"] = list(map(lambda image: F.rotate(compose(image), angle = 45), examples[\"image\"]))\n",
    "\n",
    "    return examples # Result\n",
    "\n",
    "# Applying the transform function to the training subset\n",
    "dataset_train.set_transform(transforms)\n",
    "\n",
    "print(\"Train subset:\\n\", dataset_train, \"\\n\")\n",
    "print(\"Test subset:\\n\", dataset_test, \"\\n\")\n",
    "\n",
    "# Getting the first row of data\n",
    "print(dataset_train[0])\n",
    "\n",
    "dataset_train[0][\"pixel_values\"]"
   ]
  },
  {
   "cell_type": "markdown",
   "id": "3161db65-7fd6-4c76-b37f-c95e4d8ec2f4",
   "metadata": {},
   "source": [
    "#### Based on the Dictionary"
   ]
  },
  {
   "cell_type": "code",
   "execution_count": 11,
   "id": "6be70e07-9590-4544-9f0b-0c352dd7ab2d",
   "metadata": {},
   "outputs": [
    {
     "name": "stdout",
     "output_type": "stream",
     "text": [
      "Train subset:\n",
      " Dataset({\n",
      "    features: ['image'],\n",
      "    num_rows: 13\n",
      "}) \n",
      "\n",
      "Test subset:\n",
      " Dataset({\n",
      "    features: ['image'],\n",
      "    num_rows: 5\n",
      "}) \n",
      "\n",
      "{'image': <PIL.JpegImagePlugin.JpegImageFile image mode=RGB size=360x325 at 0x138BCED20>, 'pixel_values': <PIL.Image.Image image mode=RGB size=128x128 at 0x138BCEF90>}\n"
     ]
    },
    {
     "data": {
      "image/jpeg": "[encoded data removed]",
      "image/png": "[encoded data removed]",
      "text/plain": [
       "<PIL.Image.Image image mode=RGB size=128x128>"
      ]
     },
     "execution_count": 11,
     "metadata": {},
     "output_type": "execute_result"
    }
   ],
   "source": [
    "data_dir = os.path.join(\".\", \"data\", \"pokemon\") # Directory for downloading the dataset\n",
    "\n",
    "# Function to get paths to images\n",
    "def get_image_paths(data_dir, split):\n",
    "    split_dir = Path(data_dir) / Path(split)\n",
    "    return list(split_dir.rglob(\"*.jpg\"))\n",
    "\n",
    "# Paths to images\n",
    "train_images = get_image_paths(data_dir, \"train\")\n",
    "test_images = get_image_paths(data_dir, \"test\")\n",
    "\n",
    "dataset_train = Dataset.from_dict({\"image\": list(map(str, train_images))}).cast_column(\"image\", Image())\n",
    "dataset_test = Dataset.from_dict({\"image\": list(map(str, test_images))}).cast_column(\"image\", Image())\n",
    "\n",
    "compose = v2.Compose([\n",
    "    v2.Resize(size = (128, 128), antialias = True)\n",
    "])\n",
    "\n",
    "def transforms(examples: dict):\n",
    "    # Apply transformations to all images (img) and save the results (pixel_values)\n",
    "    examples[\"pixel_values\"] = list(map(lambda image: F.rotate(compose(image), angle = -45), examples[\"image\"]))\n",
    "\n",
    "    return examples # Result\n",
    "\n",
    "# Applying the transform function to the training subset\n",
    "dataset_train.set_transform(transforms)\n",
    "\n",
    "print(\"Train subset:\\n\", dataset_train, \"\\n\")\n",
    "print(\"Test subset:\\n\", dataset_test, \"\\n\")\n",
    "\n",
    "# Getting the first row of data\n",
    "print(dataset_train[0])\n",
    "\n",
    "dataset_train[0][\"pixel_values\"]"
   ]
  },
  {
   "cell_type": "markdown",
   "id": "bcd3e04f-2486-4c4d-ae88-9154d12a6913",
   "metadata": {},
   "source": [
    "### Create/Read General Information Stored in the [DatasetInfo](https://huggingface.co/docs/datasets/package_reference/main_classes#datasets.DatasetInfo)"
   ]
  },
  {
   "cell_type": "code",
   "execution_count": 12,
   "id": "76f294ed-20a4-4ffb-890a-a1b91c1d54cc",
   "metadata": {},
   "outputs": [
    {
     "name": "stdout",
     "output_type": "stream",
     "text": [
      "DatasetInfo(description='', citation='', homepage='', license='', features={'image': Image(mode=None, decode=True, id=None)}, post_processed=None, supervised_keys=None, task_templates=None, builder_name=None, dataset_name=None, config_name=None, version=None, splits=None, download_checksums=None, download_size=None, post_processing_size=None, dataset_size=None, size_in_bytes=None)\n"
     ]
    }
   ],
   "source": [
    "dataset_info_dir = os.path.join(\".\", \"data\", \"pokemon\") # Directory with dataset\n",
    "\n",
    "dataset_train.info.write_to_directory(dataset_info_dir = dataset_info_dir)\n",
    "\n",
    "ds_info = DatasetInfo.from_directory(dataset_info_dir = dataset_info_dir)\n",
    "\n",
    "print(ds_info)"
   ]
  },
  {
   "cell_type": "markdown",
   "id": "f2a231d4-c219-4a36-895c-dd59bc309bd5",
   "metadata": {},
   "source": [
    "### Add a Column"
   ]
  },
  {
   "cell_type": "code",
   "execution_count": 13,
   "id": "c4785cc4-4ca8-4001-82c5-a41602c0e450",
   "metadata": {},
   "outputs": [
    {
     "data": {
      "text/plain": [
       "Dataset({\n",
       "    features: ['image', 'numbers'],\n",
       "    num_rows: 13\n",
       "})"
      ]
     },
     "execution_count": 13,
     "metadata": {},
     "output_type": "execute_result"
    }
   ],
   "source": [
    "column = list(range(1, dataset_train.num_rows + 1))\n",
    "\n",
    "new_dataset_train = dataset_train.add_column(name = \"numbers\", column = column)\n",
    "\n",
    "new_dataset_train"
   ]
  },
  {
   "cell_type": "markdown",
   "id": "5b3e192e-9e68-4507-8c53-e25f91bc30f4",
   "metadata": {},
   "source": [
    "### Add a Row"
   ]
  },
  {
   "cell_type": "code",
   "execution_count": 14,
   "id": "3efac7a2-4b4a-4a4c-9b6c-901fc4037b98",
   "metadata": {},
   "outputs": [
    {
     "data": {
      "image/jpeg": "[encoded data removed]",
      "image/png": "[encoded data removed]",
      "text/plain": [
       "<PIL.PngImagePlugin.PngImageFile image mode=RGB size=128x128>"
      ]
     },
     "execution_count": 14,
     "metadata": {},
     "output_type": "execute_result"
    }
   ],
   "source": [
    "# Array of random pixels\n",
    "random_image_array = np.random.randint(0, 256, (128, 128, 3), dtype = np.uint8)\n",
    "# Array image\n",
    "random_image = PILImage.fromarray(random_image_array)\n",
    "\n",
    "with io.BytesIO() as output:\n",
    "    random_image.save(output, format = \"PNG\")\n",
    "    image_bytes = output.getvalue()\n",
    "\n",
    "new_item = {\"image\": image_bytes}\n",
    "\n",
    "new_dataset_train = dataset_train.add_item(new_item)\n",
    "\n",
    "new_dataset_train[-1][\"image\"]"
   ]
  },
  {
   "cell_type": "markdown",
   "id": "89a54a0e-bc22-4108-9ba8-1999ac771376",
   "metadata": {},
   "source": [
    "### View the Data Structure Stored as an Apache Arrow Table"
   ]
  },
  {
   "cell_type": "code",
   "execution_count": 15,
   "id": "6a723f40-524f-4964-98c5-c4340bbb0d54",
   "metadata": {},
   "outputs": [
    {
     "data": {
      "text/plain": [
       "InMemoryTable\n",
       "image: struct<bytes: binary, path: string>\n",
       "  child 0, bytes: binary\n",
       "  child 1, path: string\n",
       "----\n",
       "image: [\n",
       "  -- is_valid: all not null\n",
       "  -- child 0 type: binary\n",
       "[null,null,null,null,null,...,null,null,null,null,null]\n",
       "  -- child 1 type: string\n",
       "[\"data/pokemon/train/accelgor/0.jpg\",\"data/pokemon/train/absol/2.jpg\",\"data/pokemon/train/absol/1.jpg\",\"data/pokemon/train/absol/0.jpg\",\"data/pokemon/train/abra/2.jpg\",...,\"data/pokemon/train/aegislash/1.jpg\",\"data/pokemon/train/aegislash/0.jpg\",\"data/pokemon/train/abomasnow/2.jpg\",\"data/pokemon/train/abomasnow/1.jpg\",\"data/pokemon/train/abomasnow/0.jpg\"]]"
      ]
     },
     "execution_count": 15,
     "metadata": {},
     "output_type": "execute_result"
    }
   ],
   "source": [
    "dataset_train.data"
   ]
  },
  {
   "cell_type": "markdown",
   "id": "c99c8f62-a7a6-45f4-acf3-fa98b62c22ed",
   "metadata": {},
   "source": [
    "### Number of Columns/Rows\n",
    "\n",
    "#### Variant 1"
   ]
  },
  {
   "cell_type": "code",
   "execution_count": 16,
   "id": "a7153fed-65c3-4f11-9160-190b34503867",
   "metadata": {},
   "outputs": [
    {
     "name": "stdout",
     "output_type": "stream",
     "text": [
      "Number of columns: 1\n",
      "Number of rows: 13\n"
     ]
    }
   ],
   "source": [
    "print(\"Number of columns:\", dataset_train.num_columns)\n",
    "print(\"Number of rows:\", dataset_train.num_rows)"
   ]
  },
  {
   "cell_type": "markdown",
   "id": "3ef29333-b9c4-49a4-94bc-f16df40b841c",
   "metadata": {},
   "source": [
    "#### Variant 2"
   ]
  },
  {
   "cell_type": "code",
   "execution_count": 17,
   "id": "46d8e60e-3a68-4559-bac5-99fe79824dff",
   "metadata": {},
   "outputs": [
    {
     "name": "stdout",
     "output_type": "stream",
     "text": [
      "Number of columns: 1\n",
      "Number of rows: 13\n"
     ]
    }
   ],
   "source": [
    "print(\"Number of columns:\", dataset_train.shape[1])\n",
    "print(\"Number of rows:\", dataset_train.shape[0])"
   ]
  },
  {
   "cell_type": "markdown",
   "id": "371bb100-3b2b-4b21-9abc-ce021b9a5ea7",
   "metadata": {},
   "source": [
    "### Column Headers"
   ]
  },
  {
   "cell_type": "code",
   "execution_count": 18,
   "id": "c5c09bb4-ddbe-417c-bad1-1fd224f67745",
   "metadata": {},
   "outputs": [
    {
     "data": {
      "text/plain": [
       "['image']"
      ]
     },
     "execution_count": 18,
     "metadata": {},
     "output_type": "execute_result"
    }
   ],
   "source": [
    "new_dataset_train.column_names"
   ]
  }
 ],
 "metadata": {
  "kernelspec": {
   "display_name": "Python 3 (ipykernel)",
   "language": "python",
   "name": "python3"
  },
  "language_info": {
   "codemirror_mode": {
    "name": "ipython",
    "version": 3
   },
   "file_extension": ".py",
   "mimetype": "text/x-python",
   "name": "python",
   "nbconvert_exporter": "python",
   "pygments_lexer": "ipython3",
   "version": "3.12.3"
  }
 },
 "nbformat": 4,
 "nbformat_minor": 5
}
