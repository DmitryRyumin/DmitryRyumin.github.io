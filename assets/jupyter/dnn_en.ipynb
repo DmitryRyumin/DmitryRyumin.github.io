{
 "cells": [
  {
   "cell_type": "markdown",
   "metadata": {
    "collapsed": false,
    "jupyter": {
     "outputs_hidden": false
    }
   },
   "source": [
    "### Version of Python"
   ]
  },
  {
   "cell_type": "code",
   "execution_count": 1,
   "metadata": {},
   "outputs": [
    {
     "name": "stdout",
     "output_type": "stream",
     "text": [
      "Python 3.12.6\n"
     ]
    }
   ],
   "source": [
    "!python -V"
   ]
  },
  {
   "cell_type": "markdown",
   "metadata": {},
   "source": [
    "### Import Required Packages"
   ]
  },
  {
   "cell_type": "code",
   "execution_count": 2,
   "metadata": {},
   "outputs": [],
   "source": [
    "# Suppress warnings\n",
    "import warnings\n",
    "for warn in [UserWarning, FutureWarning]: warnings.filterwarnings(\"ignore\", category = warn)\n",
    "\n",
    "import os\n",
    "import numpy as np\n",
    "import torch\n",
    "import torch.nn as nn\n",
    "import pandas as pd\n",
    "import jupyterlab as jlab\n",
    "\n",
    "from dataclasses import dataclass"
   ]
  },
  {
   "cell_type": "markdown",
   "metadata": {},
   "source": [
    "### Versions of Required Libraries"
   ]
  },
  {
   "cell_type": "code",
   "execution_count": 3,
   "metadata": {},
   "outputs": [
    {
     "data": {
      "text/html": [
       "<div>\n",
       "<style scoped>\n",
       "    .dataframe tbody tr th:only-of-type {\n",
       "        vertical-align: middle;\n",
       "    }\n",
       "\n",
       "    .dataframe tbody tr th {\n",
       "        vertical-align: top;\n",
       "    }\n",
       "\n",
       "    .dataframe thead th {\n",
       "        text-align: right;\n",
       "    }\n",
       "</style>\n",
       "<table border=\"1\" class=\"dataframe\">\n",
       "  <thead>\n",
       "    <tr style=\"text-align: right;\">\n",
       "      <th></th>\n",
       "      <th>Package</th>\n",
       "      <th>Version</th>\n",
       "    </tr>\n",
       "    <tr>\n",
       "      <th>#</th>\n",
       "      <th></th>\n",
       "      <th></th>\n",
       "    </tr>\n",
       "  </thead>\n",
       "  <tbody>\n",
       "    <tr>\n",
       "      <th>1</th>\n",
       "      <td>Torch</td>\n",
       "      <td>2.2.2</td>\n",
       "    </tr>\n",
       "    <tr>\n",
       "      <th>2</th>\n",
       "      <td>NumPy</td>\n",
       "      <td>1.26.4</td>\n",
       "    </tr>\n",
       "    <tr>\n",
       "      <th>3</th>\n",
       "      <td>Pandas</td>\n",
       "      <td>2.2.3</td>\n",
       "    </tr>\n",
       "    <tr>\n",
       "      <th>4</th>\n",
       "      <td>JupyterLab</td>\n",
       "      <td>4.2.5</td>\n",
       "    </tr>\n",
       "  </tbody>\n",
       "</table>\n",
       "</div>"
      ],
      "text/plain": [
       "      Package Version\n",
       "#                    \n",
       "1       Torch   2.2.2\n",
       "2       NumPy  1.26.4\n",
       "3      Pandas   2.2.3\n",
       "4  JupyterLab   4.2.5"
      ]
     },
     "metadata": {},
     "output_type": "display_data"
    }
   ],
   "source": [
    "packages = [\n",
    "    \"Torch\", \"NumPy\", \"Pandas\", \"JupyterLab\",\n",
    "]\n",
    "\n",
    "package_objects = [\n",
    "    torch, np, pd, jlab\n",
    "]\n",
    "\n",
    "versions = list(map(lambda obj: obj.__version__, package_objects))\n",
    "\n",
    "pkgs = {\"Package\": packages, \"Version\": versions}\n",
    "df_pkgs = pd.DataFrame(data = pkgs)\n",
    "df_pkgs.index.name = \"#\"\n",
    "df_pkgs.index += 1\n",
    "\n",
    "display(df_pkgs)\n",
    "\n",
    "path_to_reqs = \".\"\n",
    "reqs_name = \"requirements.txt\"\n",
    "\n",
    "def get_packages_and_versions():\n",
    "    \"\"\"Generate strings with libraries and their versions in the format: package==version\"\"\"\n",
    "    \n",
    "    for package, version in zip(packages, versions):\n",
    "        yield f\"{package.lower()}=={version}\\n\"\n",
    "\n",
    "with open(os.path.join(path_to_reqs, reqs_name), \"w\", encoding = \"utf-8\") as f:\n",
    "    f.writelines(get_packages_and_versions())"
   ]
  },
  {
   "cell_type": "markdown",
   "metadata": {},
   "source": [
    "### Example of a Deep Neural Network"
   ]
  },
  {
   "cell_type": "code",
   "execution_count": 4,
   "metadata": {},
   "outputs": [
    {
     "name": "stdout",
     "output_type": "stream",
     "text": [
      "Resulting tensor after passing through the model:\n",
      "tensor([[-0.0697, -0.0728, -0.1142, -0.0601, -0.0298],\n",
      "        [-0.0132, -0.1072, -0.0698, -0.0640, -0.0348]],\n",
      "       grad_fn=<AddmmBackward0>)\n",
      "Size of the resulting tensor:\n",
      "torch.Size([2, 5])\n"
     ]
    }
   ],
   "source": [
    "@dataclass\n",
    "class DNN(nn.Module):\n",
    "    input_size: int # Input layer\n",
    "    hidden_sizes: list[int] # List of hidden layer sizes\n",
    "    output_size: int # Output layer\n",
    "\n",
    "    # Called immediately after __init__ when using dataclass\n",
    "    def __post_init__(self):\n",
    "        super(DNN, self).__init__()\n",
    "\n",
    "        # Create a list to store all layers\n",
    "        self.layers = nn.ModuleList()\n",
    "\n",
    "        # Adding the first hidden layer\n",
    "        self.layers.append(nn.Linear(self.input_size, self.hidden_sizes[0]))\n",
    "\n",
    "        # Adding the remaining hidden layers\n",
    "        for i in range(1, len(self.hidden_sizes)):\n",
    "            self.layers.append(nn.Linear(self.hidden_sizes[i - 1], self.hidden_sizes[i]))\n",
    "        \n",
    "        # Adding an output layer\n",
    "        self.layers.append(nn.Linear(self.hidden_sizes[-1], self.output_size))\n",
    "\n",
    "        # Determine the activation function for the hidden layers\n",
    "        self.g = nn.ReLU()\n",
    "\n",
    "    # Direct data flow through the neural network\n",
    "    def forward(self, x: torch.Tensor) -> torch.Tensor:\n",
    "        # Pass through all hidden layers with activation function\n",
    "        for layer in self.layers[:-1]:\n",
    "            x = self.g(layer(x))\n",
    "\n",
    "        # Pass through the output layer\n",
    "        x = self.layers[-1](x)\n",
    "\n",
    "        return x\n",
    "\n",
    "# Check for GPU availability\n",
    "device = torch.device(\"cuda\" if torch.cuda.is_available() else \"cpu\")\n",
    "\n",
    "# Create a model instance\n",
    "model = DNN(input_size = 10, hidden_sizes = [20, 30, 20], output_size = 5).to(device)\n",
    "\n",
    "# Create a random tensor\n",
    "input = torch.randn(2, model.input_size).to(device)\n",
    "\n",
    "# Run through the model\n",
    "output = model(input)\n",
    "\n",
    "# Output of the resulting tensor after passing through the model\n",
    "print(\"Resulting tensor after passing through the model:\")\n",
    "print(output)\n",
    "\n",
    "# Output the size of the resulting tensor\n",
    "print(\"Size of the resulting tensor:\")\n",
    "print(output.size())"
   ]
  }
 ],
 "metadata": {
  "kernelspec": {
   "display_name": "Python 3 (ipykernel)",
   "language": "python",
   "name": "python3"
  },
  "language_info": {
   "codemirror_mode": {
    "name": "ipython",
    "version": 3
   },
   "file_extension": ".py",
   "mimetype": "text/x-python",
   "name": "python",
   "nbconvert_exporter": "python",
   "pygments_lexer": "ipython3",
   "version": "3.12.6"
  }
 },
 "nbformat": 4,
 "nbformat_minor": 4
}
