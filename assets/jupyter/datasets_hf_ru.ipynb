{
 "cells": [
  {
   "cell_type": "markdown",
   "id": "3096e9e9-970f-4223-919a-2a444794ff1e",
   "metadata": {},
   "source": [
    "### Версия Python"
   ]
  },
  {
   "cell_type": "code",
   "execution_count": 1,
   "id": "4c2e604d-4889-4d0c-8e0d-9d4fe1062a1c",
   "metadata": {},
   "outputs": [
    {
     "name": "stdout",
     "output_type": "stream",
     "text": [
      "Python 3.12.6\n"
     ]
    }
   ],
   "source": [
    "!python -V"
   ]
  },
  {
   "cell_type": "markdown",
   "id": "d230c5fa-ace2-4a7a-bfc0-fe3484170c91",
   "metadata": {},
   "source": [
    "### Импорт необходимых библиотек"
   ]
  },
  {
   "cell_type": "code",
   "execution_count": 2,
   "id": "728b7cc6-cd1f-4fab-8cc7-66d18f48bffd",
   "metadata": {},
   "outputs": [],
   "source": [
    "# Подавление предупреждений\n",
    "import warnings\n",
    "for warn in [UserWarning, FutureWarning]: warnings.filterwarnings(\"ignore\", category = warn)\n",
    "\n",
    "import io\n",
    "import os\n",
    "import numpy as np\n",
    "import torch\n",
    "import torch.nn as nn\n",
    "import torchvision as tv\n",
    "import torchvision.transforms as transforms\n",
    "import torchvision.transforms.functional as F\n",
    "import pandas as pd\n",
    "import datasets\n",
    "import PIL\n",
    "import jupyterlab as jlab\n",
    "import ipywidgets\n",
    "import time\n",
    "\n",
    "from pathlib import Path\n",
    "from dataclasses import dataclass\n",
    "from datasets import load_dataset_builder, load_dataset, get_dataset_split_names, get_dataset_config_names, Dataset, Image, DatasetInfo\n",
    "from torchvision.transforms import v2\n",
    "from PIL import Image as PILImage"
   ]
  },
  {
   "cell_type": "markdown",
   "id": "906b30fa-925b-4dd1-8e75-aad79936c93a",
   "metadata": {},
   "source": [
    "### Версии необходимых библиотек"
   ]
  },
  {
   "cell_type": "code",
   "execution_count": 3,
   "id": "607ce9bc-4882-4ed7-b10c-b127c860b1fd",
   "metadata": {},
   "outputs": [
    {
     "data": {
      "text/html": [
       "<div>\n",
       "<style scoped>\n",
       "    .dataframe tbody tr th:only-of-type {\n",
       "        vertical-align: middle;\n",
       "    }\n",
       "\n",
       "    .dataframe tbody tr th {\n",
       "        vertical-align: top;\n",
       "    }\n",
       "\n",
       "    .dataframe thead th {\n",
       "        text-align: right;\n",
       "    }\n",
       "</style>\n",
       "<table border=\"1\" class=\"dataframe\">\n",
       "  <thead>\n",
       "    <tr style=\"text-align: right;\">\n",
       "      <th></th>\n",
       "      <th>Библиотека</th>\n",
       "      <th>Версия</th>\n",
       "    </tr>\n",
       "    <tr>\n",
       "      <th>№</th>\n",
       "      <th></th>\n",
       "      <th></th>\n",
       "    </tr>\n",
       "  </thead>\n",
       "  <tbody>\n",
       "    <tr>\n",
       "      <th>1</th>\n",
       "      <td>Torch</td>\n",
       "      <td>2.2.2</td>\n",
       "    </tr>\n",
       "    <tr>\n",
       "      <th>2</th>\n",
       "      <td>TorchVision</td>\n",
       "      <td>0.17.2</td>\n",
       "    </tr>\n",
       "    <tr>\n",
       "      <th>3</th>\n",
       "      <td>NumPy</td>\n",
       "      <td>1.26.4</td>\n",
       "    </tr>\n",
       "    <tr>\n",
       "      <th>4</th>\n",
       "      <td>Pandas</td>\n",
       "      <td>2.2.3</td>\n",
       "    </tr>\n",
       "    <tr>\n",
       "      <th>5</th>\n",
       "      <td>Datasets</td>\n",
       "      <td>3.0.0</td>\n",
       "    </tr>\n",
       "    <tr>\n",
       "      <th>6</th>\n",
       "      <td>Pillow</td>\n",
       "      <td>10.4.0</td>\n",
       "    </tr>\n",
       "    <tr>\n",
       "      <th>7</th>\n",
       "      <td>JupyterLab</td>\n",
       "      <td>4.2.5</td>\n",
       "    </tr>\n",
       "    <tr>\n",
       "      <th>8</th>\n",
       "      <td>IPyWidgets</td>\n",
       "      <td>8.1.5</td>\n",
       "    </tr>\n",
       "  </tbody>\n",
       "</table>\n",
       "</div>"
      ],
      "text/plain": [
       "    Библиотека  Версия\n",
       "№                     \n",
       "1        Torch   2.2.2\n",
       "2  TorchVision  0.17.2\n",
       "3        NumPy  1.26.4\n",
       "4       Pandas   2.2.3\n",
       "5     Datasets   3.0.0\n",
       "6       Pillow  10.4.0\n",
       "7   JupyterLab   4.2.5\n",
       "8   IPyWidgets   8.1.5"
      ]
     },
     "metadata": {},
     "output_type": "display_data"
    }
   ],
   "source": [
    "packages = [\n",
    "    \"Torch\", \"TorchVision\", \"NumPy\", \"Pandas\", \"Datasets\", \"Pillow\", \"JupyterLab\", \"IPyWidgets\"\n",
    "]\n",
    "\n",
    "package_objects = [\n",
    "    torch, tv, np, pd, datasets, PIL, jlab, ipywidgets\n",
    "]\n",
    "\n",
    "versions = list(map(lambda obj: obj.__version__, package_objects))\n",
    "\n",
    "pkgs = {\"Библиотека\": packages, \"Версия\": versions}\n",
    "df_pkgs = pd.DataFrame(data = pkgs)\n",
    "df_pkgs.index.name = \"№\"\n",
    "df_pkgs.index += 1\n",
    "\n",
    "display(df_pkgs)\n",
    "\n",
    "path_to_reqs = \".\"\n",
    "reqs_name = \"requirements.txt\"\n",
    "\n",
    "def get_packages_and_versions():\n",
    "    \"\"\"Генерация строк с библиотеками и их версиями в формате: библиотека==версия\"\"\"\n",
    "    \n",
    "    for package, version in zip(packages, versions):\n",
    "        yield f\"{package.lower()}=={version}\\n\"\n",
    "\n",
    "with open(os.path.join(path_to_reqs, reqs_name), \"w\", encoding = \"utf-8\") as f:\n",
    "    f.writelines(get_packages_and_versions())"
   ]
  },
  {
   "cell_type": "markdown",
   "id": "aa0002ff-9f36-467c-8a83-354ef37ebf23",
   "metadata": {},
   "source": [
    "### Загрузка набора данных из [Hugging Face Hub](https://huggingface.co/datasets)\n",
    "\n",
    "> Перед загрузкой набора данных можно получить общую информацию, хранящуюся в [DatasetInfo](https://huggingface.co/docs/datasets/package_reference/main_classes#datasets.DatasetInfo), включая описание, функции и размер набора данных"
   ]
  },
  {
   "cell_type": "markdown",
   "id": "c81e1247-f0d7-4808-bd41-5b887492d3ea",
   "metadata": {},
   "source": [
    "#### Проверки атрибутов набора данных без его загрузки"
   ]
  },
  {
   "cell_type": "code",
   "execution_count": 4,
   "id": "26210686-0294-4263-8488-80091c3060af",
   "metadata": {},
   "outputs": [
    {
     "data": {
      "application/vnd.jupyter.widget-view+json": {
       "model_id": "c48eaac83b3c42308ba9fb979911ddc1",
       "version_major": 2,
       "version_minor": 0
      },
      "text/plain": [
       "README.md:   0%|          | 0.00/5.16k [00:00<?, ?B/s]"
      ]
     },
     "metadata": {},
     "output_type": "display_data"
    },
    {
     "name": "stdout",
     "output_type": "stream",
     "text": [
      "DatasetInfo(description='', citation='', homepage='', license='', features={'img': Image(mode=None, decode=True, id=None), 'label': ClassLabel(names=['airplane', 'automobile', 'bird', 'cat', 'deer', 'dog', 'frog', 'horse', 'ship', 'truck'], id=None)}, post_processed=None, supervised_keys=None, builder_name='parquet', dataset_name='cifar10', config_name='plain_text', version=0.0.0, splits={'train': SplitInfo(name='train', num_bytes=113861310, num_examples=50000, shard_lengths=None, dataset_name='cifar10'), 'test': SplitInfo(name='test', num_bytes=22774180, num_examples=10000, shard_lengths=None, dataset_name='cifar10')}, download_checksums={'hf://datasets/uoft-cs/cifar10@0b2714987fa478483af9968de7c934580d0bb9a2/plain_text/train-00000-of-00001.parquet': {'num_bytes': 119705255, 'checksum': None}, 'hf://datasets/uoft-cs/cifar10@0b2714987fa478483af9968de7c934580d0bb9a2/plain_text/test-00000-of-00001.parquet': {'num_bytes': 23940850, 'checksum': None}}, download_size=143646105, post_processing_size=None, dataset_size=136635490, size_in_bytes=280281595) \n",
      "\n",
      "{'img': Image(mode=None, decode=True, id=None), 'label': ClassLabel(names=['airplane', 'automobile', 'bird', 'cat', 'deer', 'dog', 'frog', 'horse', 'ship', 'truck'], id=None)}\n"
     ]
    }
   ],
   "source": [
    "cache_dir = os.path.join(\".\", \"data\") # Директория для загрузки набора данных\n",
    "\n",
    "# Проверка общей информации, которая требуется для построения набора данных, без загрузки самого набора данных\n",
    "ds_builder = load_dataset_builder(path = \"uoft-cs/cifar10\", cache_dir = cache_dir, trust_remote_code = True)\n",
    "\n",
    "# Информация о наборе данных\n",
    "print(ds_builder.info, \"\\n\")\n",
    "print(ds_builder.info.features)"
   ]
  },
  {
   "cell_type": "markdown",
   "id": "f726d083-1a40-4584-becc-83523059fcba",
   "metadata": {},
   "source": [
    "#### Список возможных конфигураций, доступных для набора данных"
   ]
  },
  {
   "cell_type": "code",
   "execution_count": 5,
   "id": "85dbd483-cbf6-4d86-abc9-de3f74b63f0e",
   "metadata": {},
   "outputs": [
    {
     "name": "stdout",
     "output_type": "stream",
     "text": [
      "['plain_text']\n"
     ]
    }
   ],
   "source": [
    "configs = get_dataset_config_names(path = \"uoft-cs/cifar10\", trust_remote_code = True)\n",
    "\n",
    "print(configs)"
   ]
  },
  {
   "cell_type": "markdown",
   "id": "180ecdf5-f250-40b7-9681-a7dcfc449043",
   "metadata": {},
   "source": [
    "#### Доступные поднаборы данных"
   ]
  },
  {
   "cell_type": "code",
   "execution_count": 6,
   "id": "30f9242d-1acf-4651-be1d-6d20036bf32e",
   "metadata": {},
   "outputs": [
    {
     "name": "stdout",
     "output_type": "stream",
     "text": [
      "['train', 'test']\n"
     ]
    }
   ],
   "source": [
    "dataset_split_names = get_dataset_split_names(path = \"uoft-cs/cifar10\", trust_remote_code = True)\n",
    "\n",
    "print(dataset_split_names)"
   ]
  },
  {
   "cell_type": "markdown",
   "id": "e41f2d0e-7e50-4573-a21c-3426f1a07568",
   "metadata": {},
   "source": [
    "#### Загрузка набора данных"
   ]
  },
  {
   "cell_type": "code",
   "execution_count": 7,
   "id": "7ef0f434-caa1-4d35-8cec-fb013c0f7887",
   "metadata": {},
   "outputs": [
    {
     "name": "stdout",
     "output_type": "stream",
     "text": [
      "Тренировочная подвыборка:\n",
      " Dataset({\n",
      "    features: ['img', 'label'],\n",
      "    num_rows: 50000\n",
      "}) \n",
      "\n",
      "Тестовая подвыборка:\n",
      " Dataset({\n",
      "    features: ['img', 'label'],\n",
      "    num_rows: 10000\n",
      "})\n"
     ]
    }
   ],
   "source": [
    "dataset_train, dataset_test = load_dataset(\n",
    "    path = \"uoft-cs/cifar10\",\n",
    "    name = \"plain_text\", # смотреть configs\n",
    "    split = dataset_split_names,\n",
    "    cache_dir = cache_dir,\n",
    "    trust_remote_code = True\n",
    ")\n",
    "\n",
    "print(\"Тренировочная подвыборка:\\n\", dataset_train, \"\\n\")\n",
    "print(\"Тестовая подвыборка:\\n\", dataset_test)"
   ]
  },
  {
   "cell_type": "markdown",
   "id": "1959db1e-8389-4c0e-9514-b87ab059419b",
   "metadata": {},
   "source": [
    "### Индексация набора данных\n",
    "\n",
    "> Набор данных содержит столбцы различных типов данных"
   ]
  },
  {
   "cell_type": "code",
   "execution_count": 8,
   "id": "4fdc66e9-3e25-4e4b-ab65-cdf8e01f27e3",
   "metadata": {},
   "outputs": [
    {
     "name": "stdout",
     "output_type": "stream",
     "text": [
      "{'img': <PIL.PngImagePlugin.PngImageFile image mode=RGB size=32x32 at 0x13A79C560>, 'label': 0} \n",
      "\n",
      "{'img': <PIL.PngImagePlugin.PngImageFile image mode=RGB size=32x32 at 0x13A47A150>, 'label': 5} \n",
      "\n",
      "{'img': [<PIL.PngImagePlugin.PngImageFile image mode=RGB size=32x32 at 0x13A79DC40>, <PIL.PngImagePlugin.PngImageFile image mode=RGB size=32x32 at 0x13BB691F0>, <PIL.PngImagePlugin.PngImageFile image mode=RGB size=32x32 at 0x13BB69970>, <PIL.PngImagePlugin.PngImageFile image mode=RGB size=32x32 at 0x13BB6A0C0>], 'label': [2, 7, 2, 1]} \n",
      "\n",
      "[<PIL.PngImagePlugin.PngImageFile image mode=RGB size=32x32 at 0x13BB6A5A0>, <PIL.PngImagePlugin.PngImageFile image mode=RGB size=32x32 at 0x13BB6A630>, <PIL.PngImagePlugin.PngImageFile image mode=RGB size=32x32 at 0x13BB6A660>, <PIL.PngImagePlugin.PngImageFile image mode=RGB size=32x32 at 0x13BB6A690>, <PIL.PngImagePlugin.PngImageFile image mode=RGB size=32x32 at 0x13BB6A6F0>, <PIL.PngImagePlugin.PngImageFile image mode=RGB size=32x32 at 0x13BB6A750>, <PIL.PngImagePlugin.PngImageFile image mode=RGB size=32x32 at 0x13BB6A7B0>, <PIL.PngImagePlugin.PngImageFile image mode=RGB size=32x32 at 0x13BB6A810>, <PIL.PngImagePlugin.PngImageFile image mode=RGB size=32x32 at 0x13BB6A870>, <PIL.PngImagePlugin.PngImageFile image mode=RGB size=32x32 at 0x13BB6A8D0>]\n",
      "Время выполнения: 0.0022 секунд\n"
     ]
    }
   ],
   "source": [
    "# Получение первой строки\n",
    "print(dataset_train[0], \"\\n\")\n",
    "\n",
    "# Получение последней строки\n",
    "print(dataset_train[-1], \"\\n\")\n",
    "\n",
    "# Получение подмножества строк\n",
    "print(dataset_train[3:7], \"\\n\")\n",
    "\n",
    "start_time = time.time()\n",
    "# Получение части строк из указанного столбца\n",
    "print(dataset_train[:10][\"img\"])\n",
    "end_time = time.time()\n",
    "print(f\"Время выполнения: {end_time - start_time:.4f} секунд\")"
   ]
  },
  {
   "cell_type": "markdown",
   "id": "5aee7bb2-aff3-45a3-b182-5c1ad1e640b5",
   "metadata": {},
   "source": [
    "### Применение преобразований к изображениям"
   ]
  },
  {
   "cell_type": "code",
   "execution_count": 9,
   "id": "2e19bf9f-012c-4219-aaa8-35510a19c3d1",
   "metadata": {},
   "outputs": [
    {
     "name": "stdout",
     "output_type": "stream",
     "text": [
      "{'img': <PIL.PngImagePlugin.PngImageFile image mode=RGB size=32x32 at 0x13BB6A540>, 'label': 6, 'pixel_values': <PIL.Image.Image image mode=RGB size=64x64 at 0x13BB6A780>}\n"
     ]
    },
    {
     "data": {
      "image/jpeg": "[encoded data removed]",
      "image/png": "[encoded data removed]",
      "text/plain": [
       "<PIL.Image.Image image mode=RGB size=64x64>"
      ]
     },
     "execution_count": 9,
     "metadata": {},
     "output_type": "execute_result"
    }
   ],
   "source": [
    "compose = v2.Compose([\n",
    "    v2.RandomResizedCrop(size = (64, 64), antialias = True),\n",
    "    v2.RandomRotation(degrees = (0, 90))\n",
    "])\n",
    "\n",
    "def transforms(examples: dict):\n",
    "    # Применение преобразований ко всем изображениям (img) и сохранение результатов (pixel_values)\n",
    "    examples[\"pixel_values\"] = list(map(compose, examples[\"img\"]))\n",
    "\n",
    "    return examples # Результат\n",
    "\n",
    "# Применение функции transforms для тренировочной подвыборки\n",
    "dataset_train.set_transform(transforms)\n",
    "\n",
    "# Получение строки\n",
    "print(dataset_train[1])\n",
    "dataset_train[1][\"pixel_values\"]"
   ]
  },
  {
   "cell_type": "markdown",
   "id": "54c0276f-4be7-4f7f-a387-b81adf0fbb4c",
   "metadata": {},
   "source": [
    "### Создание набора данных\n",
    "\n",
    "> Разделение набора данных осуществляется по структуре корневой директории,\n",
    "> а метки автоматически создаются из названий подкаталогов\n",
    "\n",
    "$$\n",
    "dataset/{train|test}/{class}/{filename}\n",
    "$$\n",
    "\n",
    "- ${train|test}$ — тренировочная, тестовая подвыборки\n",
    "- ${class}$ — класс\n",
    "- ${filename}$ — файл изображения или аудиозаписи"
   ]
  },
  {
   "cell_type": "markdown",
   "id": "ed961576-8169-41fc-b8cd-936ede5259a0",
   "metadata": {},
   "source": [
    "#### На основе директорий"
   ]
  },
  {
   "cell_type": "code",
   "execution_count": 10,
   "id": "2a64251d-9e3a-484c-91c2-32c714e391ef",
   "metadata": {},
   "outputs": [
    {
     "data": {
      "application/vnd.jupyter.widget-view+json": {
       "model_id": "e24db8a70ac645739f77372c8d3f6130",
       "version_major": 2,
       "version_minor": 0
      },
      "text/plain": [
       "Generating train split: 0 examples [00:00, ? examples/s]"
      ]
     },
     "metadata": {},
     "output_type": "display_data"
    },
    {
     "data": {
      "application/vnd.jupyter.widget-view+json": {
       "model_id": "f368c3c25aec4b5d90d4239c62fcdbb5",
       "version_major": 2,
       "version_minor": 0
      },
      "text/plain": [
       "Generating test split: 0 examples [00:00, ? examples/s]"
      ]
     },
     "metadata": {},
     "output_type": "display_data"
    },
    {
     "name": "stdout",
     "output_type": "stream",
     "text": [
      "Тренировочная подвыборка:\n",
      " Dataset({\n",
      "    features: ['image', 'label'],\n",
      "    num_rows: 13\n",
      "}) \n",
      "\n",
      "Тестовая подвыборка:\n",
      " Dataset({\n",
      "    features: ['image', 'label'],\n",
      "    num_rows: 5\n",
      "}) \n",
      "\n",
      "{'image': <PIL.JpegImagePlugin.JpegImageFile image mode=RGB size=360x361 at 0x13A44DF70>, 'label': 0, 'pixel_values': <PIL.Image.Image image mode=RGB size=128x128 at 0x13A44DF40>}\n"
     ]
    },
    {
     "data": {
      "image/jpeg": "[encoded data removed]",
      "image/png": "[encoded data removed]",
      "text/plain": [
       "<PIL.Image.Image image mode=RGB size=128x128>"
      ]
     },
     "execution_count": 10,
     "metadata": {},
     "output_type": "execute_result"
    }
   ],
   "source": [
    "data_dir = os.path.join(\".\", \"data\", \"pokemon\") # Директория для загрузки набора данных\n",
    "\n",
    "dataset = load_dataset(\n",
    "    path = \"imagefolder\",\n",
    "    data_dir = data_dir\n",
    ")\n",
    "dataset_train, dataset_test = dataset['train'], dataset['test']\n",
    "\n",
    "compose = v2.Compose([\n",
    "    v2.Resize(size = (128, 128), antialias = True)\n",
    "])\n",
    "\n",
    "def transforms(examples: dict):\n",
    "    # Применение преобразований ко всем изображениям (image) и сохранение результатов (pixel_values)\n",
    "    examples[\"pixel_values\"] = list(map(lambda image: F.rotate(compose(image), angle = 45), examples[\"image\"]))\n",
    "\n",
    "    return examples # Результат\n",
    "\n",
    "# Применение функции transforms для тренировочной подвыборки\n",
    "dataset_train.set_transform(transforms)\n",
    "\n",
    "print(\"Тренировочная подвыборка:\\n\", dataset_train, \"\\n\")\n",
    "print(\"Тестовая подвыборка:\\n\", dataset_test, \"\\n\")\n",
    "\n",
    "# Получение первой строки\n",
    "print(dataset_train[0])\n",
    "\n",
    "dataset_train[0][\"pixel_values\"]"
   ]
  },
  {
   "cell_type": "markdown",
   "id": "3161db65-7fd6-4c76-b37f-c95e4d8ec2f4",
   "metadata": {},
   "source": [
    "#### На основе словаря"
   ]
  },
  {
   "cell_type": "code",
   "execution_count": 11,
   "id": "6be70e07-9590-4544-9f0b-0c352dd7ab2d",
   "metadata": {},
   "outputs": [
    {
     "name": "stdout",
     "output_type": "stream",
     "text": [
      "Тренировочная подвыборка:\n",
      " Dataset({\n",
      "    features: ['image'],\n",
      "    num_rows: 13\n",
      "}) \n",
      "\n",
      "Тестовая подвыборка:\n",
      " Dataset({\n",
      "    features: ['image'],\n",
      "    num_rows: 5\n",
      "}) \n",
      "\n",
      "{'image': <PIL.JpegImagePlugin.JpegImageFile image mode=RGB size=360x325 at 0x13BBA6930>, 'pixel_values': <PIL.Image.Image image mode=RGB size=128x128 at 0x13BBA7D10>}\n"
     ]
    },
    {
     "data": {
      "image/jpeg": "[encoded data removed]",
      "image/png": "[encoded data removed]",
      "text/plain": [
       "<PIL.Image.Image image mode=RGB size=128x128>"
      ]
     },
     "execution_count": 11,
     "metadata": {},
     "output_type": "execute_result"
    }
   ],
   "source": [
    "data_dir = os.path.join(\".\", \"data\", \"pokemon\") # Директория для загрузки набора данных\n",
    "\n",
    "# Функция для получения путей к изображениям\n",
    "def get_image_paths(data_dir, split):\n",
    "    split_dir = Path(data_dir) / Path(split)\n",
    "    return list(split_dir.rglob(\"*.jpg\"))\n",
    "\n",
    "# Пути к изображениям\n",
    "train_images = get_image_paths(data_dir, \"train\")\n",
    "test_images = get_image_paths(data_dir, \"test\")\n",
    "\n",
    "dataset_train = Dataset.from_dict({\"image\": list(map(str, train_images))}).cast_column(\"image\", Image())\n",
    "dataset_test = Dataset.from_dict({\"image\": list(map(str, test_images))}).cast_column(\"image\", Image())\n",
    "\n",
    "compose = v2.Compose([\n",
    "    v2.Resize(size = (128, 128), antialias = True)\n",
    "])\n",
    "\n",
    "def transforms(examples: dict):\n",
    "    # Применение преобразований ко всем изображениям (image) и сохранение результатов (pixel_values)\n",
    "    examples[\"pixel_values\"] = list(map(lambda image: F.rotate(compose(image), angle = -45), examples[\"image\"]))\n",
    "\n",
    "    return examples # Результат\n",
    "\n",
    "# Применение функции transforms для тренировочной подвыборки\n",
    "dataset_train.set_transform(transforms)\n",
    "\n",
    "print(\"Тренировочная подвыборка:\\n\", dataset_train, \"\\n\")\n",
    "print(\"Тестовая подвыборка:\\n\", dataset_test, \"\\n\")\n",
    "\n",
    "# Получение первой строки\n",
    "print(dataset_train[0])\n",
    "\n",
    "dataset_train[0][\"pixel_values\"]"
   ]
  },
  {
   "cell_type": "markdown",
   "id": "bcd3e04f-2486-4c4d-ae88-9154d12a6913",
   "metadata": {},
   "source": [
    "### Создание/чтение общей информации, хранящейся в [DatasetInfo](https://huggingface.co/docs/datasets/package_reference/main_classes#datasets.DatasetInfo)"
   ]
  },
  {
   "cell_type": "code",
   "execution_count": 12,
   "id": "76f294ed-20a4-4ffb-890a-a1b91c1d54cc",
   "metadata": {},
   "outputs": [
    {
     "name": "stdout",
     "output_type": "stream",
     "text": [
      "DatasetInfo(description='', citation='', homepage='', license='', features={'image': Image(mode=None, decode=True, id=None)}, post_processed=None, supervised_keys=None, builder_name=None, dataset_name=None, config_name=None, version=None, splits=None, download_checksums=None, download_size=None, post_processing_size=None, dataset_size=None, size_in_bytes=None)\n"
     ]
    }
   ],
   "source": [
    "dataset_info_dir = os.path.join(\".\", \"data\", \"pokemon\") # Директория с набором данных\n",
    "\n",
    "dataset_train.info.write_to_directory(dataset_info_dir = dataset_info_dir)\n",
    "\n",
    "ds_info = DatasetInfo.from_directory(dataset_info_dir = dataset_info_dir)\n",
    "\n",
    "print(ds_info)"
   ]
  },
  {
   "cell_type": "markdown",
   "id": "f2a231d4-c219-4a36-895c-dd59bc309bd5",
   "metadata": {},
   "source": [
    "### Добавление столбца"
   ]
  },
  {
   "cell_type": "code",
   "execution_count": 13,
   "id": "c4785cc4-4ca8-4001-82c5-a41602c0e450",
   "metadata": {},
   "outputs": [
    {
     "data": {
      "text/plain": [
       "Dataset({\n",
       "    features: ['image', 'numbers'],\n",
       "    num_rows: 13\n",
       "})"
      ]
     },
     "execution_count": 13,
     "metadata": {},
     "output_type": "execute_result"
    }
   ],
   "source": [
    "column = list(range(1, dataset_train.num_rows + 1))\n",
    "\n",
    "new_dataset_train = dataset_train.add_column(name = \"numbers\", column = column)\n",
    "\n",
    "new_dataset_train"
   ]
  },
  {
   "cell_type": "markdown",
   "id": "5b3e192e-9e68-4507-8c53-e25f91bc30f4",
   "metadata": {},
   "source": [
    "### Добавление строки"
   ]
  },
  {
   "cell_type": "code",
   "execution_count": 14,
   "id": "3efac7a2-4b4a-4a4c-9b6c-901fc4037b98",
   "metadata": {},
   "outputs": [
    {
     "data": {
      "image/jpeg": "[encoded data removed]",
      "image/png": "[encoded data removed]",
      "text/plain": [
       "<PIL.PngImagePlugin.PngImageFile image mode=RGB size=128x128>"
      ]
     },
     "execution_count": 14,
     "metadata": {},
     "output_type": "execute_result"
    }
   ],
   "source": [
    "# Массив случайных пикселей\n",
    "random_image_array = np.random.randint(0, 256, (128, 128, 3), dtype = np.uint8)\n",
    "# Изображение из массива\n",
    "random_image = PILImage.fromarray(random_image_array)\n",
    "\n",
    "with io.BytesIO() as output:\n",
    "    random_image.save(output, format = \"PNG\")\n",
    "    image_bytes = output.getvalue()\n",
    "\n",
    "new_item = {\"image\": image_bytes}\n",
    "\n",
    "new_dataset_train = dataset_train.add_item(new_item)\n",
    "\n",
    "new_dataset_train[-1][\"image\"]"
   ]
  },
  {
   "cell_type": "markdown",
   "id": "89a54a0e-bc22-4108-9ba8-1999ac771376",
   "metadata": {},
   "source": [
    "### Отображение структуры данных, которая хранится в виде таблицы Apache Arrow"
   ]
  },
  {
   "cell_type": "code",
   "execution_count": 15,
   "id": "6a723f40-524f-4964-98c5-c4340bbb0d54",
   "metadata": {},
   "outputs": [
    {
     "data": {
      "text/plain": [
       "InMemoryTable\n",
       "image: struct<bytes: binary, path: string>\n",
       "  child 0, bytes: binary\n",
       "  child 1, path: string\n",
       "----\n",
       "image: [\n",
       "  -- is_valid: all not null\n",
       "  -- child 0 type: binary\n",
       "[null,null,null,null,null,...,null,null,null,null,null]\n",
       "  -- child 1 type: string\n",
       "[\"data/pokemon/train/accelgor/0.jpg\",\"data/pokemon/train/absol/2.jpg\",\"data/pokemon/train/absol/1.jpg\",\"data/pokemon/train/absol/0.jpg\",\"data/pokemon/train/abra/2.jpg\",...,\"data/pokemon/train/aegislash/1.jpg\",\"data/pokemon/train/aegislash/0.jpg\",\"data/pokemon/train/abomasnow/2.jpg\",\"data/pokemon/train/abomasnow/1.jpg\",\"data/pokemon/train/abomasnow/0.jpg\"]]"
      ]
     },
     "execution_count": 15,
     "metadata": {},
     "output_type": "execute_result"
    }
   ],
   "source": [
    "dataset_train.data"
   ]
  },
  {
   "cell_type": "markdown",
   "id": "c99c8f62-a7a6-45f4-acf3-fa98b62c22ed",
   "metadata": {},
   "source": [
    "### Количество столбцов/строк\n",
    "\n",
    "#### Вариант 1"
   ]
  },
  {
   "cell_type": "code",
   "execution_count": 16,
   "id": "a7153fed-65c3-4f11-9160-190b34503867",
   "metadata": {},
   "outputs": [
    {
     "name": "stdout",
     "output_type": "stream",
     "text": [
      "Количество столбцов: 1\n",
      "Количество строк: 13\n"
     ]
    }
   ],
   "source": [
    "print(\"Количество столбцов:\", dataset_train.num_columns)\n",
    "print(\"Количество строк:\", dataset_train.num_rows)"
   ]
  },
  {
   "cell_type": "markdown",
   "id": "3ef29333-b9c4-49a4-94bc-f16df40b841c",
   "metadata": {},
   "source": [
    "#### Вариант 2"
   ]
  },
  {
   "cell_type": "code",
   "execution_count": 17,
   "id": "46d8e60e-3a68-4559-bac5-99fe79824dff",
   "metadata": {},
   "outputs": [
    {
     "name": "stdout",
     "output_type": "stream",
     "text": [
      "Количество столбцов: 1\n",
      "Количество строк: 13\n"
     ]
    }
   ],
   "source": [
    "print(\"Количество столбцов:\", dataset_train.shape[1])\n",
    "print(\"Количество строк:\", dataset_train.shape[0])"
   ]
  },
  {
   "cell_type": "markdown",
   "id": "371bb100-3b2b-4b21-9abc-ce021b9a5ea7",
   "metadata": {},
   "source": [
    "### Заголовки столбцов"
   ]
  },
  {
   "cell_type": "code",
   "execution_count": 18,
   "id": "c5c09bb4-ddbe-417c-bad1-1fd224f67745",
   "metadata": {},
   "outputs": [
    {
     "data": {
      "text/plain": [
       "['image']"
      ]
     },
     "execution_count": 18,
     "metadata": {},
     "output_type": "execute_result"
    }
   ],
   "source": [
    "new_dataset_train.column_names"
   ]
  }
 ],
 "metadata": {
  "kernelspec": {
   "display_name": "Python 3 (ipykernel)",
   "language": "python",
   "name": "python3"
  },
  "language_info": {
   "codemirror_mode": {
    "name": "ipython",
    "version": 3
   },
   "file_extension": ".py",
   "mimetype": "text/x-python",
   "name": "python",
   "nbconvert_exporter": "python",
   "pygments_lexer": "ipython3",
   "version": "3.12.6"
  }
 },
 "nbformat": 4,
 "nbformat_minor": 5
}
