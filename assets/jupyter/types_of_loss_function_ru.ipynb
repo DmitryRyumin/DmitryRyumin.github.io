{
 "cells": [
  {
   "cell_type": "markdown",
   "metadata": {
    "collapsed": false,
    "jupyter": {
     "outputs_hidden": false
    }
   },
   "source": [
    "### Версия Python"
   ]
  },
  {
   "cell_type": "code",
   "execution_count": 1,
   "metadata": {},
   "outputs": [
    {
     "name": "stdout",
     "output_type": "stream",
     "text": [
      "Python 3.12.3\n"
     ]
    }
   ],
   "source": [
    "!python -V"
   ]
  },
  {
   "cell_type": "markdown",
   "metadata": {},
   "source": [
    "### Импорт необходимых библиотек"
   ]
  },
  {
   "cell_type": "code",
   "execution_count": 2,
   "metadata": {},
   "outputs": [],
   "source": [
    "# Подавление предупреждений\n",
    "import warnings\n",
    "for warn in [UserWarning, FutureWarning]: warnings.filterwarnings(\"ignore\", category = warn)\n",
    "\n",
    "import os\n",
    "import numpy as np\n",
    "import torch\n",
    "import torch.nn as nn\n",
    "import pandas as pd\n",
    "import jupyterlab as jlab\n",
    "\n",
    "from dataclasses import dataclass"
   ]
  },
  {
   "cell_type": "markdown",
   "metadata": {},
   "source": [
    "### Версии необходимых библиотек"
   ]
  },
  {
   "cell_type": "code",
   "execution_count": 3,
   "metadata": {},
   "outputs": [
    {
     "data": {
      "text/html": [
       "<div>\n",
       "<style scoped>\n",
       "    .dataframe tbody tr th:only-of-type {\n",
       "        vertical-align: middle;\n",
       "    }\n",
       "\n",
       "    .dataframe tbody tr th {\n",
       "        vertical-align: top;\n",
       "    }\n",
       "\n",
       "    .dataframe thead th {\n",
       "        text-align: right;\n",
       "    }\n",
       "</style>\n",
       "<table border=\"1\" class=\"dataframe\">\n",
       "  <thead>\n",
       "    <tr style=\"text-align: right;\">\n",
       "      <th></th>\n",
       "      <th>Библиотека</th>\n",
       "      <th>Версия</th>\n",
       "    </tr>\n",
       "    <tr>\n",
       "      <th>№</th>\n",
       "      <th></th>\n",
       "      <th></th>\n",
       "    </tr>\n",
       "  </thead>\n",
       "  <tbody>\n",
       "    <tr>\n",
       "      <th>1</th>\n",
       "      <td>Torch</td>\n",
       "      <td>2.2.2</td>\n",
       "    </tr>\n",
       "    <tr>\n",
       "      <th>2</th>\n",
       "      <td>NumPy</td>\n",
       "      <td>1.26.4</td>\n",
       "    </tr>\n",
       "    <tr>\n",
       "      <th>3</th>\n",
       "      <td>Pandas</td>\n",
       "      <td>2.2.2</td>\n",
       "    </tr>\n",
       "    <tr>\n",
       "      <th>4</th>\n",
       "      <td>JupyterLab</td>\n",
       "      <td>4.2.3</td>\n",
       "    </tr>\n",
       "  </tbody>\n",
       "</table>\n",
       "</div>"
      ],
      "text/plain": [
       "   Библиотека  Версия\n",
       "№                    \n",
       "1       Torch   2.2.2\n",
       "2       NumPy  1.26.4\n",
       "3      Pandas   2.2.2\n",
       "4  JupyterLab   4.2.3"
      ]
     },
     "metadata": {},
     "output_type": "display_data"
    }
   ],
   "source": [
    "packages = [\n",
    "    \"Torch\", \"NumPy\", \"Pandas\", \"JupyterLab\",\n",
    "]\n",
    "\n",
    "package_objects = [\n",
    "    torch, np, pd, jlab\n",
    "]\n",
    "\n",
    "versions = [obj.__version__ for obj in package_objects]\n",
    "\n",
    "pkgs = {\"Библиотека\": packages, \"Версия\": versions}\n",
    "df_pkgs = pd.DataFrame(data = pkgs)\n",
    "df_pkgs.index.name = \"№\"\n",
    "df_pkgs.index += 1\n",
    "\n",
    "display(df_pkgs)\n",
    "\n",
    "path_to_reqs = \".\"\n",
    "reqs_name = \"requirements.txt\"\n",
    "\n",
    "def get_packages_and_versions():\n",
    "    \"\"\"Генерация строк с библиотеками и их версиями в формате: библиотека==версия\"\"\"\n",
    "    \n",
    "    for package, version in zip(packages, versions):\n",
    "        yield f\"{package.lower()}=={version}\\n\"\n",
    "\n",
    "with open(os.path.join(path_to_reqs, reqs_name), \"w\", encoding = \"utf-8\") as f:\n",
    "    f.writelines(get_packages_and_versions())"
   ]
  },
  {
   "cell_type": "markdown",
   "metadata": {},
   "source": [
    "### L1Loss (L1-норма или средняя абсолютная ошибка)\n",
    "\n",
    "`Регрессия`\n",
    "\n",
    "> Измерение средней абсолютной разницы между предсказанными и истинными значениями нейросетевой модели."
   ]
  },
  {
   "cell_type": "code",
   "execution_count": 4,
   "metadata": {},
   "outputs": [
    {
     "name": "stdout",
     "output_type": "stream",
     "text": [
      "Средняя абсолютная разница: 1.100000023841858\n",
      "Градиенты по входным данным: tensor([[ 0.1667, -0.1667,  0.1667],\n",
      "        [ 0.0000, -0.1667,  0.1667]])\n"
     ]
    }
   ],
   "source": [
    "# Создание объекта L1Loss\n",
    "loss = nn.L1Loss(reduction = \"mean\") # none | mean | sum\n",
    "\n",
    "# Генерация входных данных и целевых меток\n",
    "input = torch.tensor([[0.5, -0.3, 1.2], [0.0, -1.5, 2.1]], requires_grad = True) # torch.randn(2, 3)\n",
    "target = torch.tensor([[0.0, 0.0, 1.0], [0.0, 1.0, -1.0]]) # torch.randn(2, 3)\n",
    "\n",
    "# Вычисление функции потерь\n",
    "output = loss(input, target)\n",
    "\n",
    "print(\"Средняя абсолютная разница:\", output.item())\n",
    "\n",
    "# Выполнение обратного прохода (backpropagation)\n",
    "output.backward()\n",
    "\n",
    "print(\"Градиенты по входным данным:\", input.grad)"
   ]
  },
  {
   "cell_type": "markdown",
   "metadata": {},
   "source": [
    "### MSELoss (Mean Squared Error Loss)\n",
    "\n",
    "`Регрессия`\n",
    "\n",
    "> Измерение среднеквадратичной ошибки между предсказанными и истинными значениями нейросетевой модели."
   ]
  },
  {
   "cell_type": "code",
   "execution_count": 5,
   "metadata": {},
   "outputs": [
    {
     "name": "stdout",
     "output_type": "stream",
     "text": [
      "Среднеквадратичная ошибка: 2.706666946411133\n",
      "Градиенты по входным данным: tensor([[ 0.1667, -0.1000,  0.0667],\n",
      "        [ 0.0000, -0.8333,  1.0333]])\n"
     ]
    }
   ],
   "source": [
    "# Создание объекта MSELoss\n",
    "loss = nn.MSELoss(reduction = \"mean\") # none | mean | sum\n",
    "\n",
    "# Генерация входных данных и целевых меток\n",
    "input = torch.tensor([[0.5, -0.3, 1.2], [0.0, -1.5, 2.1]], requires_grad = True) # torch.randn(2, 3)\n",
    "target = torch.tensor([[0.0, 0.0, 1.0], [0.0, 1.0, -1.0]]) # torch.randn(2, 3)\n",
    "\n",
    "# Вычисление функции потерь\n",
    "output = loss(input, target)\n",
    "\n",
    "# Вывод значения функции потерь\n",
    "print(\"Среднеквадратичная ошибка:\", output.item())\n",
    "\n",
    "# Выполнение обратного прохода (backpropagation)\n",
    "output.backward()\n",
    "\n",
    "print(\"Градиенты по входным данным:\", input.grad)"
   ]
  },
  {
   "cell_type": "markdown",
   "metadata": {},
   "source": [
    "### PoissonNLLLoss\n",
    "\n",
    "`Регрессия`\n",
    "\n",
    "> Измерение отрицательного логарифмического правдоподобия предсказанных значений, предполагая, что целевые метки следуют распределению Пуассона."
   ]
  },
  {
   "cell_type": "code",
   "execution_count": 6,
   "metadata": {},
   "outputs": [
    {
     "name": "stdout",
     "output_type": "stream",
     "text": [
      "Значение функции потерь: 2.916492462158203\n",
      "Градиенты по входным данным: tensor([[ 0.2748,  0.1235,  0.3867],\n",
      "        [ 0.1667, -0.1295,  1.5277]])\n"
     ]
    }
   ],
   "source": [
    "# Создание объекта PoissonNLLLoss\n",
    "loss = nn.PoissonNLLLoss(log_input = True, full = False, eps = 1e-8, reduction = \"mean\")\n",
    "\n",
    "# Генерация входных данных и целевых меток\n",
    "input = torch.tensor([[0.5, -0.3, 1.2], [0.0, -1.5, 2.1]], requires_grad = True) # torch.randn(2, 3)\n",
    "target = torch.tensor([[0.0, 0.0, 1.0], [0.0, 1.0, -1.0]]) # torch.randn(2, 3)\n",
    "\n",
    "# Вычисление функции потерь\n",
    "output = loss(input, target)\n",
    "\n",
    "# Вывод значения функции потерь\n",
    "print(\"Значение функции потерь:\", output.item())\n",
    "\n",
    "# Выполнение обратного прохода (backpropagation)\n",
    "output.backward()\n",
    "\n",
    "print(\"Градиенты по входным данным:\", input.grad)"
   ]
  },
  {
   "cell_type": "markdown",
   "metadata": {},
   "source": [
    "### GaussianNLLLoss\n",
    "\n",
    "`Регрессия`\n",
    "\n",
    "> Измерение отрицательного логарифмического правдоподобия предсказанных значений и дисперсий, предполагая, что целевые метки следуют нормальному распределению."
   ]
  },
  {
   "cell_type": "code",
   "execution_count": 7,
   "metadata": {},
   "outputs": [
    {
     "name": "stdout",
     "output_type": "stream",
     "text": [
      "Значение функции потерь: -0.39910173416137695\n",
      "Градиенты по входным данным: tensor([[-0.1667,  0.0000],\n",
      "        [ 0.0000, -0.5556],\n",
      "        [ 0.0000,  0.0000]])\n"
     ]
    }
   ],
   "source": [
    "# Создание объекта GaussianNLLLoss\n",
    "loss = nn.GaussianNLLLoss(full = False, eps = 1e-6, reduction = \"mean\")\n",
    "\n",
    "# Генерация входных данных и целевых меток\n",
    "input = torch.tensor([[2.5, 0.0], [0.0, 1.0], [1.0, 2.0]], requires_grad = True)\n",
    "target = torch.tensor([[3.0, 0.0], [0.0, 2.0], [1.0, 2.0]])\n",
    "var = torch.tensor([[0.5, 0.2], [0.1, 0.3], [0.2, 0.3]])\n",
    "\n",
    "# Вычисление функции потерь\n",
    "output = loss(input, target, var)\n",
    "\n",
    "# Вывод значения функции потерь\n",
    "print(\"Значение функции потерь:\", output.item())\n",
    "\n",
    "# Выполнение обратного прохода (backpropagation)\n",
    "output.backward()\n",
    "\n",
    "print(\"Градиенты по входным данным:\", input.grad)"
   ]
  },
  {
   "cell_type": "markdown",
   "metadata": {},
   "source": [
    "### KLDivLoss (Kullback-Leibler Divergence Loss)\n",
    "\n",
    "`Регрессия`\n",
    "\n",
    "> Измерение расхождения Кульбака-Лейблера между двумя распределениями вероятностей."
   ]
  },
  {
   "cell_type": "code",
   "execution_count": 8,
   "metadata": {},
   "outputs": [
    {
     "name": "stdout",
     "output_type": "stream",
     "text": [
      "Значение функции потерь: 0.1021953895688057\n",
      "Градиенты по входным данным: tensor([[ 0.0947, -0.0401, -0.0547],\n",
      "        [ 0.0246, -0.0991,  0.0746]])\n"
     ]
    }
   ],
   "source": [
    "# Создание объекта LogSoftmax\n",
    "m = nn.LogSoftmax(dim = 1)\n",
    "\n",
    "# Создание объекта KLDivLoss\n",
    "loss = nn.KLDivLoss(reduction = \"batchmean\")\n",
    "\n",
    "# Генерация входных данных и целевых меток\n",
    "input = torch.tensor([[0.2, 0.3, 0.5], [0.1, 0.8, 0.1]], requires_grad = True)\n",
    "target = torch.tensor([[0.1, 0.4, 0.5], [0.2, 0.7, 0.1]])\n",
    "\n",
    "# Вычисление функции потерь\n",
    "output = loss(m(input), target)\n",
    "\n",
    "# Вывод значения функции потерь\n",
    "print(\"Значение функции потерь:\", output.item())\n",
    "\n",
    "# Выполнение обратного прохода (backpropagation)\n",
    "output.backward()\n",
    "\n",
    "print(\"Градиенты по входным данным:\", input.grad)"
   ]
  },
  {
   "cell_type": "markdown",
   "metadata": {},
   "source": [
    "### CrossEntropyLoss\n",
    "\n",
    "`Классификация`\n",
    "\n",
    "> Комбинация **LogSoftmax** и **NLLLoss (Negative Log Likelihood Loss)** для измерения разницы между предсказанными вероятностями классов и истинными метками."
   ]
  },
  {
   "cell_type": "code",
   "execution_count": 9,
   "metadata": {},
   "outputs": [
    {
     "name": "stdout",
     "output_type": "stream",
     "text": [
      "Кросс-энтропийная ошибка: 0.47952529788017273\n",
      "Градиенты по входным данным: tensor([[ 0.0450,  0.1224, -0.1674],\n",
      "        [ 0.1060, -0.2119,  0.1060]])\n"
     ]
    }
   ],
   "source": [
    "# Создание объекта CrossEntropyLoss\n",
    "loss = nn.CrossEntropyLoss(reduction = \"mean\", label_smoothing = 0.0) # none | mean | sum\n",
    "\n",
    "# Генерация входных данных и целевых меток\n",
    "input = torch.tensor([[1.0, 2.0, 3.0], [1.0, 2.0, 1.0]], requires_grad = True) # torch.randn(2, 3)\n",
    "target = torch.tensor([2, 1])\n",
    "\n",
    "# Вычисление функции потерь\n",
    "output = loss(input, target)\n",
    "\n",
    "# Вывод значения функции потерь\n",
    "print(\"Кросс-энтропийная ошибка:\", output.item())\n",
    "\n",
    "# Выполнение обратного прохода (backpropagation)\n",
    "output.backward()\n",
    "\n",
    "print(\"Градиенты по входным данным:\", input.grad)"
   ]
  },
  {
   "cell_type": "markdown",
   "metadata": {},
   "source": [
    "### NLLLoss\n",
    "\n",
    "`Классификация`\n",
    "\n",
    "> Измерение разницы между предсказанными вероятностями классов (после применения **LogSoftmax**) и истинными метками."
   ]
  },
  {
   "cell_type": "code",
   "execution_count": 10,
   "metadata": {},
   "outputs": [
    {
     "name": "stdout",
     "output_type": "stream",
     "text": [
      "Значение функции потерь: 0.47952529788017273\n",
      "Градиенты по входным данным: tensor([[ 0.0450,  0.1224, -0.1674],\n",
      "        [ 0.1060, -0.2119,  0.1060]])\n"
     ]
    }
   ],
   "source": [
    "# Создание объекта LogSoftmax\n",
    "m = nn.LogSoftmax(dim = 1)\n",
    "\n",
    "# Создание объекта NLLLoss\n",
    "loss = nn.NLLLoss(reduction = \"mean\") # none | mean | sum\n",
    "\n",
    "# Генерация входных данных и целевых меток\n",
    "input = torch.tensor([[1.0, 2.0, 3.0], [1.0, 2.0, 1.0]], requires_grad = True) # torch.randn(2, 3)\n",
    "target = torch.tensor([2, 1])\n",
    "\n",
    "# Вычисление функции потерь\n",
    "output = loss(m(input), target)\n",
    "\n",
    "# Вывод значения функции потерь\n",
    "print(\"Значение функции потерь:\", output.item())\n",
    "\n",
    "# Выполнение обратного прохода (backpropagation)\n",
    "output.backward()\n",
    "\n",
    "print(\"Градиенты по входным данным:\", input.grad)"
   ]
  },
  {
   "cell_type": "markdown",
   "metadata": {},
   "source": [
    "### BCELoss (Binary Cross Entropy Loss)\n",
    "\n",
    "`Бинарная классификация`\n",
    "\n",
    "> Измерение разницы между предсказанными вероятностями и истинными бинарными метками, используя кросс-энтропийную функцию потерь."
   ]
  },
  {
   "cell_type": "code",
   "execution_count": 11,
   "metadata": {},
   "outputs": [
    {
     "name": "stdout",
     "output_type": "stream",
     "text": [
      "Значение функции потерь: 0.3190375566482544\n",
      "Градиенты по входным данным: tensor([[-0.4167],\n",
      "        [ 0.4167],\n",
      "        [-0.5556]])\n"
     ]
    }
   ],
   "source": [
    "# Создание объекта BCELoss\n",
    "loss = nn.BCELoss(reduction = \"mean\") # none | mean | sum\n",
    "\n",
    "# Генерация входных данных и целевых меток\n",
    "input = torch.tensor([[0.8], [0.2], [0.6]], requires_grad = True)\n",
    "target = torch.tensor([[1.0], [0.0], [1.0]])\n",
    "\n",
    "# Вычисление функции потерь\n",
    "output = loss(input, target)\n",
    "\n",
    "# Вывод значения функции потерь\n",
    "print(\"Значение функции потерь:\", output.item())\n",
    "\n",
    "# Выполнение обратного прохода (backpropagation)\n",
    "output.backward()\n",
    "\n",
    "print(\"Градиенты по входным данным:\", input.grad)"
   ]
  },
  {
   "cell_type": "markdown",
   "metadata": {},
   "source": [
    "### BCEWithLogitsLoss\n",
    "\n",
    "`Бинарная классификация`\n",
    "\n",
    "> Измерение разницы между предсказанными логитами и истинными бинарными метками, объединяя в себе вычисление сигмоиды и бинарной кросс-энтропии."
   ]
  },
  {
   "cell_type": "code",
   "execution_count": 12,
   "metadata": {},
   "outputs": [
    {
     "name": "stdout",
     "output_type": "stream",
     "text": [
      "Значение функции потерь: 0.36532461643218994\n",
      "Градиенты по входным данным: tensor([[-0.0608],\n",
      "        [ 0.0608],\n",
      "        [-0.1667]])\n"
     ]
    }
   ],
   "source": [
    "# Создание объекта BCEWithLogitsLoss\n",
    "loss = nn.BCEWithLogitsLoss(reduction = \"mean\") # none | mean | sum\n",
    "\n",
    "# Генерация входных данных и целевых меток\n",
    "input = torch.tensor([[1.5], [-1.5], [0.0]], requires_grad = True)\n",
    "target = torch.tensor([[1.0], [0.0], [1.0]])\n",
    "\n",
    "# Вычисление функции потерь\n",
    "output = loss(input, target)\n",
    "\n",
    "# Вывод значения функции потерь\n",
    "print(\"Значение функции потерь:\", output.item())\n",
    "\n",
    "# Выполнение обратного прохода (backpropagation)\n",
    "output.backward()\n",
    "\n",
    "print(\"Градиенты по входным данным:\", input.grad)"
   ]
  },
  {
   "cell_type": "markdown",
   "metadata": {},
   "source": [
    "### MarginRankingLoss\n",
    "\n",
    "`Ранжирование`\n",
    "\n",
    "> Ранжирование пар"
   ]
  },
  {
   "cell_type": "code",
   "execution_count": 13,
   "metadata": {},
   "outputs": [
    {
     "name": "stdout",
     "output_type": "stream",
     "text": [
      "Значение функции потерь: 0.46666666865348816\n",
      "Градиенты по входным данным: tensor([[-0.0608],\n",
      "        [ 0.0608],\n",
      "        [-0.1667]])\n"
     ]
    }
   ],
   "source": [
    "# Создание объекта MarginRankingLoss\n",
    "loss = nn.MarginRankingLoss(reduction = \"mean\") # none | mean | sum\n",
    "\n",
    "# Генерация входных данных и целевых меток\n",
    "input1 = torch.tensor([0.8, 0.7, -0.2], requires_grad = True)\n",
    "input2 = torch.tensor([0.1, -0.1, 0.5], requires_grad = True)\n",
    "target = torch.tensor([1, 2, 2])\n",
    "\n",
    "# Вычисление функции потерь\n",
    "output = loss(input1, input2, target)\n",
    "\n",
    "# Вывод значения функции потерь\n",
    "print(\"Значение функции потерь:\", output.item())\n",
    "\n",
    "# Выполнение обратного прохода (backpropagation)\n",
    "output.backward()\n",
    "\n",
    "print(\"Градиенты по входным данным:\", input.grad)"
   ]
  }
 ],
 "metadata": {
  "kernelspec": {
   "display_name": "Python 3 (ipykernel)",
   "language": "python",
   "name": "python3"
  },
  "language_info": {
   "codemirror_mode": {
    "name": "ipython",
    "version": 3
   },
   "file_extension": ".py",
   "mimetype": "text/x-python",
   "name": "python",
   "nbconvert_exporter": "python",
   "pygments_lexer": "ipython3",
   "version": "3.12.3"
  }
 },
 "nbformat": 4,
 "nbformat_minor": 4
}
