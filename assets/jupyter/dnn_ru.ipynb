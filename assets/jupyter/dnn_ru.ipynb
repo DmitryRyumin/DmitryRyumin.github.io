{
 "cells": [
  {
   "cell_type": "markdown",
   "metadata": {
    "collapsed": false,
    "jupyter": {
     "outputs_hidden": false
    }
   },
   "source": [
    "### Версия Python"
   ]
  },
  {
   "cell_type": "code",
   "execution_count": 1,
   "metadata": {},
   "outputs": [
    {
     "name": "stdout",
     "output_type": "stream",
     "text": [
      "Python 3.12.6\n"
     ]
    }
   ],
   "source": [
    "!python -V"
   ]
  },
  {
   "cell_type": "markdown",
   "metadata": {},
   "source": [
    "### Импорт необходимых библиотек"
   ]
  },
  {
   "cell_type": "code",
   "execution_count": 2,
   "metadata": {},
   "outputs": [],
   "source": [
    "# Подавление предупреждений\n",
    "import warnings\n",
    "for warn in [UserWarning, FutureWarning]: warnings.filterwarnings(\"ignore\", category = warn)\n",
    "\n",
    "import os\n",
    "import numpy as np\n",
    "import torch\n",
    "import torch.nn as nn\n",
    "import pandas as pd\n",
    "import jupyterlab as jlab\n",
    "\n",
    "from dataclasses import dataclass"
   ]
  },
  {
   "cell_type": "markdown",
   "metadata": {},
   "source": [
    "### Версии необходимых библиотек"
   ]
  },
  {
   "cell_type": "code",
   "execution_count": 3,
   "metadata": {},
   "outputs": [
    {
     "data": {
      "text/html": [
       "<div>\n",
       "<style scoped>\n",
       "    .dataframe tbody tr th:only-of-type {\n",
       "        vertical-align: middle;\n",
       "    }\n",
       "\n",
       "    .dataframe tbody tr th {\n",
       "        vertical-align: top;\n",
       "    }\n",
       "\n",
       "    .dataframe thead th {\n",
       "        text-align: right;\n",
       "    }\n",
       "</style>\n",
       "<table border=\"1\" class=\"dataframe\">\n",
       "  <thead>\n",
       "    <tr style=\"text-align: right;\">\n",
       "      <th></th>\n",
       "      <th>Библиотека</th>\n",
       "      <th>Версия</th>\n",
       "    </tr>\n",
       "    <tr>\n",
       "      <th>№</th>\n",
       "      <th></th>\n",
       "      <th></th>\n",
       "    </tr>\n",
       "  </thead>\n",
       "  <tbody>\n",
       "    <tr>\n",
       "      <th>1</th>\n",
       "      <td>Torch</td>\n",
       "      <td>2.2.2</td>\n",
       "    </tr>\n",
       "    <tr>\n",
       "      <th>2</th>\n",
       "      <td>NumPy</td>\n",
       "      <td>1.26.4</td>\n",
       "    </tr>\n",
       "    <tr>\n",
       "      <th>3</th>\n",
       "      <td>Pandas</td>\n",
       "      <td>2.2.3</td>\n",
       "    </tr>\n",
       "    <tr>\n",
       "      <th>4</th>\n",
       "      <td>JupyterLab</td>\n",
       "      <td>4.2.5</td>\n",
       "    </tr>\n",
       "  </tbody>\n",
       "</table>\n",
       "</div>"
      ],
      "text/plain": [
       "   Библиотека  Версия\n",
       "№                    \n",
       "1       Torch   2.2.2\n",
       "2       NumPy  1.26.4\n",
       "3      Pandas   2.2.3\n",
       "4  JupyterLab   4.2.5"
      ]
     },
     "metadata": {},
     "output_type": "display_data"
    }
   ],
   "source": [
    "packages = [\n",
    "    \"Torch\", \"NumPy\", \"Pandas\", \"JupyterLab\",\n",
    "]\n",
    "\n",
    "package_objects = [\n",
    "    torch, np, pd, jlab\n",
    "]\n",
    "\n",
    "versions = list(map(lambda obj: obj.__version__, package_objects))\n",
    "\n",
    "pkgs = {\"Библиотека\": packages, \"Версия\": versions}\n",
    "df_pkgs = pd.DataFrame(data = pkgs)\n",
    "df_pkgs.index.name = \"№\"\n",
    "df_pkgs.index += 1\n",
    "\n",
    "display(df_pkgs)\n",
    "\n",
    "path_to_reqs = \".\"\n",
    "reqs_name = \"requirements.txt\"\n",
    "\n",
    "def get_packages_and_versions():\n",
    "    \"\"\"Генерация строк с библиотеками и их версиями в формате: библиотека==версия\"\"\"\n",
    "    \n",
    "    for package, version in zip(packages, versions):\n",
    "        yield f\"{package.lower()}=={version}\\n\"\n",
    "\n",
    "with open(os.path.join(path_to_reqs, reqs_name), \"w\", encoding = \"utf-8\") as f:\n",
    "    f.writelines(get_packages_and_versions())"
   ]
  },
  {
   "cell_type": "markdown",
   "metadata": {},
   "source": [
    "### Пример глубокой нейросети"
   ]
  },
  {
   "cell_type": "code",
   "execution_count": 4,
   "metadata": {},
   "outputs": [
    {
     "name": "stdout",
     "output_type": "stream",
     "text": [
      "Результирующий тензор после прохождения через модель:\n",
      "tensor([[-0.3182,  0.0094,  0.0363, -0.2141, -0.0267],\n",
      "        [-0.2654,  0.0179, -0.0132, -0.1938, -0.0111]],\n",
      "       grad_fn=<AddmmBackward0>)\n",
      "Размер результирующего тензора:\n",
      "torch.Size([2, 5])\n"
     ]
    }
   ],
   "source": [
    "@dataclass\n",
    "class DNN(nn.Module):\n",
    "    input_size: int # Входной слой\n",
    "    hidden_sizes: list[int] # Список размеров скрытых слоев\n",
    "    output_size: int # Выходной слой\n",
    "\n",
    "    # Вызывается сразу после __init__ при использовании dataclass\n",
    "    def __post_init__(self):\n",
    "        super(DNN, self).__init__()\n",
    "\n",
    "        # Создание списка для хранения всех слоев\n",
    "        self.layers = nn.ModuleList()\n",
    "\n",
    "        # Добавление первого скрытого слоя\n",
    "        self.layers.append(nn.Linear(self.input_size, self.hidden_sizes[0]))\n",
    "\n",
    "        # Добавление остальных скрытых слоев\n",
    "        for i in range(1, len(self.hidden_sizes)):\n",
    "            self.layers.append(nn.Linear(self.hidden_sizes[i - 1], self.hidden_sizes[i]))\n",
    "        \n",
    "        # Добавление выходного слоя\n",
    "        self.layers.append(nn.Linear(self.hidden_sizes[-1], self.output_size))\n",
    "\n",
    "        # Определение функции активации для скрытых слоев\n",
    "        self.g = nn.ReLU()\n",
    "\n",
    "    # Прямой проход данных через нейросеть\n",
    "    def forward(self, x: torch.Tensor) -> torch.Tensor:\n",
    "        # Проход через все скрытые слои с функцией активации\n",
    "        for layer in self.layers[:-1]:\n",
    "            x = self.g(layer(x))\n",
    "\n",
    "        # Проход через выходной слой\n",
    "        x = self.layers[-1](x)\n",
    "\n",
    "        return x\n",
    "\n",
    "# Проверка наличия GPU\n",
    "device = torch.device(\"cuda\" if torch.cuda.is_available() else \"cpu\")\n",
    "\n",
    "# Создание экземпляра модели\n",
    "model = DNN(input_size = 10, hidden_sizes = [20, 30, 20], output_size = 5).to(device)\n",
    "\n",
    "# Генерация случайного тензора\n",
    "input = torch.randn(2, model.input_size).to(device)\n",
    "\n",
    "# Проход через модель\n",
    "output = model(input)\n",
    "\n",
    "# Вывод результирующего тензора после прохождения через модель\n",
    "print(\"Результирующий тензор после прохождения через модель:\")\n",
    "print(output)\n",
    "\n",
    "# Вывод размера результирующего тензора\n",
    "print(\"Размер результирующего тензора:\")\n",
    "print(output.size())"
   ]
  }
 ],
 "metadata": {
  "kernelspec": {
   "display_name": "Python 3 (ipykernel)",
   "language": "python",
   "name": "python3"
  },
  "language_info": {
   "codemirror_mode": {
    "name": "ipython",
    "version": 3
   },
   "file_extension": ".py",
   "mimetype": "text/x-python",
   "name": "python",
   "nbconvert_exporter": "python",
   "pygments_lexer": "ipython3",
   "version": "3.12.6"
  }
 },
 "nbformat": 4,
 "nbformat_minor": 4
}
